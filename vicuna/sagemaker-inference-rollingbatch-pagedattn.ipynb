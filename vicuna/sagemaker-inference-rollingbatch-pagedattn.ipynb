{
 "cells": [
  {
   "cell_type": "markdown",
   "id": "c6c03e23",
   "metadata": {},
   "source": [
    "# Serve Llama2-70B on SageMaker using DJL container"
   ]
  },
  {
   "cell_type": "markdown",
   "id": "3a968267",
   "metadata": {},
   "source": [
    "In this notebook, we deploy the Llama2-70B model across GPUs on a ml.p4d.24xlarge instance.This is a accelerate framework which use rollingbatch"
   ]
  },
  {
   "cell_type": "markdown",
   "id": "eb63b6c1",
   "metadata": {},
   "source": [
    "## Import the relevant libraries and configure several global variables using boto3"
   ]
  },
  {
   "cell_type": "code",
   "execution_count": null,
   "id": "a78aa656-a254-4037-8736-2c3ab0a9ef7e",
   "metadata": {
    "tags": []
   },
   "outputs": [],
   "source": [
    "!pip install sagemaker boto3 --upgrade"
   ]
  },
  {
   "cell_type": "code",
   "execution_count": null,
   "id": "456e483a",
   "metadata": {
    "tags": []
   },
   "outputs": [],
   "source": [
    "import sagemaker\n",
    "import jinja2\n",
    "from sagemaker import image_uris\n",
    "import boto3\n",
    "import os\n",
    "import time\n",
    "import json\n",
    "from pathlib import Path"
   ]
  },
  {
   "cell_type": "code",
   "execution_count": 17,
   "id": "1867d693",
   "metadata": {
    "tags": []
   },
   "outputs": [
    {
     "name": "stdout",
     "output_type": "stream",
     "text": [
      "sagemaker.config INFO - Not applying SDK defaults from location: /etc/xdg/sagemaker/config.yaml\n",
      "sagemaker.config INFO - Not applying SDK defaults from location: /home/ec2-user/.config/sagemaker/config.yaml\n",
      "sagemaker.config INFO - Not applying SDK defaults from location: /etc/xdg/sagemaker/config.yaml\n",
      "sagemaker.config INFO - Not applying SDK defaults from location: /home/ec2-user/.config/sagemaker/config.yaml\n"
     ]
    }
   ],
   "source": [
    "role = sagemaker.get_execution_role()  # execution role for the endpoint\n",
    "sess = sagemaker.session.Session()  # sagemaker session for interacting with different AWS APIs\n",
    "bucket = sess.default_bucket()  # bucket to house artifacts\n",
    "model_bucket = sess.default_bucket()  # bucket to house artifacts\n",
    "s3_code_prefix = \"hf-large-model-djl/code_llama2\"  # folder within bucket where code artifact will go\n",
    "\n",
    "region = sess._region_name\n",
    "account_id = sess.account_id()\n",
    "\n",
    "s3_client = boto3.client(\"s3\")\n",
    "sm_client = boto3.client(\"sagemaker\")\n",
    "smr_client = boto3.client(\"sagemaker-runtime\")\n",
    "\n",
    "jinja_env = jinja2.Environment()"
   ]
  },
  {
   "cell_type": "markdown",
   "id": "3b6c6a87",
   "metadata": {},
   "source": [
    "## Create SageMaker compatible Model artifact, upload model to S3 and bring your own inference script.\n",
    "\n",
    "SageMaker Large Model Inference containers can be used to host models without providing your own inference code. This is extremely useful when there is no custom pre-processing of the input data or postprocessing of the model's predictions.\n",
    "\n",
    "SageMaker needs the model artifacts to be in a Tarball format. In this example, we provide the following files - `serving.properties`.\n",
    "\n",
    "The tarball is in the following format:\n",
    "\n",
    "```\n",
    "code\n",
    "├──── \n",
    "│   └── serving.properties\n",
    "\n",
    "```\n",
    "\n",
    "- `serving.properties` is the configuration file that can be used to configure the model server."
   ]
  },
  {
   "cell_type": "code",
   "execution_count": null,
   "id": "7d037781",
   "metadata": {
    "tags": []
   },
   "outputs": [],
   "source": [
    "!mkdir -p code_llama2"
   ]
  },
  {
   "cell_type": "markdown",
   "id": "5a507efc",
   "metadata": {},
   "source": [
    "#### Create serving.properties \n",
    "This is a configuration file to indicate to DJL Serving which model parallelization and inference optimization libraries you would like to use. Depending on your need, you can set the appropriate configuration.\n",
    "\n",
    "Here is a list of settings that we use in this configuration file -\n",
    "- `engine`: The engine for DJL to use. In this case, we intend to use Accelerate and hence set it to **Python**. \n",
    "- `option.model_id`: The model id of a pretrained model hosted inside a model repository on huggingface.co (https://huggingface.co/models). The container uses this model id to download the corresponding model repository on huggingface.co.\n",
    "- `option.tensor_parallel_degree`: Set to the number of GPU devices over which Accelerate needs to partition the model. This parameter also controls the no of workers per model which will be started up when DJL serving runs. As an example if we have a 8 GPU machine and we are creating 8 partitions then we will have 1 worker per model to serve the requests.\n",
    "\n",
    "For more details on the configuration options and an exhaustive list, you can refer the documentation - https://docs.aws.amazon.com/sagemaker/latest/dg/realtime-endpoints-large-model-configuration.html."
   ]
  },
  {
   "cell_type": "code",
   "execution_count": null,
   "id": "e18abd82",
   "metadata": {
    "tags": []
   },
   "outputs": [],
   "source": [
    "# define a variable to contain the s3url of the location that has the model\n",
    "pretrained_model_location = f\"s3://sagemaker-example-files-prod-{region}/models/llama2/\"\n",
    "print(f\"Pretrained model will be downloaded from ---- > {pretrained_model_location}\")"
   ]
  },
  {
   "cell_type": "markdown",
   "id": "f3a1437b",
   "metadata": {},
   "source": [
    "In the below cell, we leverage [Jinja](https://pypi.org/project/Jinja2/) to create a template for serving.properties. Specifically, we parameterize `option.s3url` so that it can be changed based on the pretrained model location."
   ]
  },
  {
   "cell_type": "code",
   "execution_count": null,
   "id": "35edb360-47e6-4bc6-bad7-f65d05d3b134",
   "metadata": {
    "tags": []
   },
   "outputs": [],
   "source": [
    "!aws s3 ls s3://sagemaker-us-west-2-687912291502/LLM-RAG/workshop/LLM_llama2_model/"
   ]
  },
  {
   "cell_type": "code",
   "execution_count": null,
   "id": "786a02ed",
   "metadata": {
    "tags": []
   },
   "outputs": [],
   "source": [
    "%%writefile ./code_llama2/serving.properties\n",
    "engine=MPI\n",
    "#option.model_id=TheBloke/Llama-2-70B-fp16\n",
    "option.s3url=s3://sagemaker-us-west-2-687912291502/LLM-RAG/workshop/LLM_llama2_model/\n",
    "option.tensor_parallel_degree=8\n",
    "option.dtype=fp16\n",
    "option.paged_attention=false\n",
    "#option.rolling_batch=auto\n",
    "option.rolling_batch=lmi-dist\n",
    "option.max_rolling_batch_size=8\n",
    "option.max_rolling_batch_prefill_tokens=1560\n",
    "option.model_loading_timeout=3600\n",
    "option.enable_streaming=true"
   ]
  },
  {
   "cell_type": "code",
   "execution_count": null,
   "id": "03d9203a",
   "metadata": {
    "tags": []
   },
   "outputs": [],
   "source": [
    "# we plug in the appropriate model location into our `serving.properties` file based on the region in which this notebook is running\n",
    "template = jinja_env.from_string(Path(\"code_llama2/serving.properties\").open().read())\n",
    "Path(\"code_llama2/serving.properties\").open(\"w\").write(\n",
    "    template.render(s3url=pretrained_model_location)\n",
    ")\n",
    "!pygmentize code_llama2/serving.properties | cat -n"
   ]
  },
  {
   "cell_type": "markdown",
   "id": "a5516aca",
   "metadata": {},
   "source": [
    "**Image URI for the DJL container is being used here**"
   ]
  },
  {
   "cell_type": "code",
   "execution_count": null,
   "id": "36729749",
   "metadata": {
    "tags": []
   },
   "outputs": [],
   "source": [
    "# inference_image_uri = f\"{account_id}.dkr.ecr.{region}.amazonaws.com/djl-ds:latest\"\n",
    "inference_image_uri = (\n",
    "    f\"763104351884.dkr.ecr.{region}.amazonaws.com/djl-inference:0.23.0-deepspeed0.9.5-cu118\"\n",
    ")\n",
    "print(f\"Image going to be used is ---- > {inference_image_uri}\")"
   ]
  },
  {
   "cell_type": "markdown",
   "id": "c2ff7d02",
   "metadata": {},
   "source": [
    "**Create the Tarball and then upload to S3 location**"
   ]
  },
  {
   "cell_type": "code",
   "execution_count": null,
   "id": "313ef1ca",
   "metadata": {
    "tags": []
   },
   "outputs": [],
   "source": [
    "!rm -f model.tar.gz\n",
    "!tar czvf model.tar.gz -C code_llama2 ."
   ]
  },
  {
   "cell_type": "code",
   "execution_count": null,
   "id": "c9a634a8",
   "metadata": {
    "tags": []
   },
   "outputs": [],
   "source": [
    "s3_code_artifact = sess.upload_data(\"model.tar.gz\", bucket, s3_code_prefix)\n",
    "print(f\"S3 Code or Model tar ball uploaded to --- > {s3_code_artifact}\")"
   ]
  },
  {
   "cell_type": "markdown",
   "id": "d86bc297",
   "metadata": {},
   "source": [
    "### To create the end point the steps are:\n",
    "\n",
    "1. Create the Model using the Image container and the Model Tarball uploaded earlier\n",
    "2. Create the endpoint config using the following key parameters\n",
    "\n",
    "    a) Instance Type is ml.p4d.24xlarge\n",
    "\n",
    "    b) ContainerStartupHealthCheckTimeoutInSeconds is 3600 to ensure health check starts after the model is ready    \n",
    "\n",
    "\n",
    "3. Create the end point using the endpoint config created"
   ]
  },
  {
   "cell_type": "markdown",
   "id": "736e245f",
   "metadata": {},
   "source": [
    "#### Create the Model\n",
    "Use the image URI for the DJL container and the s3 location to which the tarball was uploaded.\n",
    "\n",
    "The container downloads the model into the `/tmp` space on the container because SageMaker maps the `/tmp` to the Amazon Elastic Block Store (Amazon EBS) volume that is mounted when we specify the endpoint creation parameter VolumeSizeInGB.\n",
    "\n",
    "For instances like p4dn, which come pre-built with the volume instance, we can continue to leverage the `/tmp` on the container. The size of this mount is large enough to hold the model."
   ]
  },
  {
   "cell_type": "code",
   "execution_count": null,
   "id": "69fb1813",
   "metadata": {
    "tags": []
   },
   "outputs": [],
   "source": [
    "from sagemaker.utils import name_from_base\n",
    "\n",
    "model_name = name_from_base(f\"tgi-llama2\")\n",
    "print(model_name)\n",
    "\n",
    "create_model_response = sm_client.create_model(\n",
    "    ModelName=model_name,\n",
    "    ExecutionRoleArn=role,\n",
    "    PrimaryContainer={\"Image\": inference_image_uri,\n",
    "                      \"ModelDataUrl\": s3_code_artifact,\n",
    "                      'Environment': {'MODEL_LOADING_TIMEOUT': '3600'}\n",
    "                     }\n",
    ")\n",
    "model_arn = create_model_response[\"ModelArn\"]\n",
    "\n",
    "print(f\"Created Model: {model_arn}\")"
   ]
  },
  {
   "cell_type": "code",
   "execution_count": null,
   "id": "fd78601e",
   "metadata": {
    "tags": []
   },
   "outputs": [],
   "source": [
    "endpoint_config_name = f\"{model_name}-config\"\n",
    "endpoint_name = f\"{model_name}-endpoint\"\n",
    "\n",
    "endpoint_config_response = sm_client.create_endpoint_config(\n",
    "    EndpointConfigName=endpoint_config_name,\n",
    "    ProductionVariants=[\n",
    "        {\n",
    "            \"VariantName\": \"variant1\",\n",
    "            \"ModelName\": model_name,\n",
    "            \"InstanceType\": \"ml.g5.48xlarge\",\n",
    "            \"InitialInstanceCount\": 1,\n",
    "            \"ModelDataDownloadTimeoutInSeconds\": 3600,\n",
    "            \"ContainerStartupHealthCheckTimeoutInSeconds\": 3600,\n",
    "        },\n",
    "    ],\n",
    ")\n",
    "endpoint_config_response"
   ]
  },
  {
   "cell_type": "code",
   "execution_count": null,
   "id": "4bf1662a",
   "metadata": {
    "tags": []
   },
   "outputs": [],
   "source": [
    "create_endpoint_response = sm_client.create_endpoint(\n",
    "    EndpointName=f\"{endpoint_name}\", EndpointConfigName=endpoint_config_name\n",
    ")\n",
    "print(f\"Created Endpoint: {create_endpoint_response['EndpointArn']}\")"
   ]
  },
  {
   "cell_type": "markdown",
   "id": "e76ed7c9",
   "metadata": {},
   "source": [
    "### This step can take ~ 20 min or longer so please be patient"
   ]
  },
  {
   "cell_type": "code",
   "execution_count": null,
   "id": "2a346828",
   "metadata": {
    "tags": []
   },
   "outputs": [],
   "source": [
    "import time\n",
    "resp = sm_client.describe_endpoint(EndpointName=endpoint_name)\n",
    "status = resp[\"EndpointStatus\"]\n",
    "print(\"Status: \" + status)\n",
    "\n",
    "while status == \"Creating\":\n",
    "    time.sleep(60)\n",
    "    resp = sm_client.describe_endpoint(EndpointName=endpoint_name)\n",
    "    status = resp[\"EndpointStatus\"]\n",
    "    print(\"Status: \" + status)\n",
    "\n",
    "print(\"Arn: \" + resp[\"EndpointArn\"])\n",
    "print(\"Status: \" + status)"
   ]
  },
  {
   "cell_type": "markdown",
   "id": "80638bee",
   "metadata": {},
   "source": [
    "#### Leverage Boto3 to invoke the endpoint. \n",
    "\n",
    "This is a generative model so we pass in a Text as a prompt and Model will complete the sentence and return the results.\n",
    "\n",
    "You can pass a prompt as input to the model. This done by setting `inputs` to a prompt. The model then returns a result for each prompt. The text generation can be configured using appropriate parameters. These `parameters` need to be passed to the endpoint as a dictionary of `kwargs`. Refer this documentation - https://huggingface.co/docs/transformers/main/en/main_classes/text_generation#transformers.GenerationConfig for more details.\n",
    "\n",
    "The below code sample illustrates the invocation of the endpoint using a text prompt and also sets some parameters."
   ]
  },
  {
   "cell_type": "code",
   "execution_count": null,
   "id": "d1e46902-19fa-4ee1-ba38-e7637bd0c3d2",
   "metadata": {
    "tags": []
   },
   "outputs": [],
   "source": [
    "endpoint_name=\"tgi-llama2-2023-09-26-03-09-02-853-endpoint\""
   ]
  },
  {
   "cell_type": "code",
   "execution_count": 18,
   "id": "7597f40f-8bb4-444c-bf57-3e58436c2eff",
   "metadata": {
    "tags": []
   },
   "outputs": [
    {
     "name": "stderr",
     "output_type": "stream",
     "text": [
      "[Parallel(n_jobs=3)]: Using backend ThreadingBackend with 3 concurrent workers.\n"
     ]
    },
    {
     "name": "stdout",
     "output_type": "stream",
     "text": [
      "process time:1\n",
      "{'generated_text': 'The script should be no longer than 1 minute and 30 seconds, and the host should be able to read it fluently and naturally.'}\n",
      "process time:1\n",
      "{'generated_text': 'Please create a script for a live broadcast host to promote the iPhone 14.\\n1. The script should be written in Chinese.\\n2'}\n",
      "process time:1\n",
      "{'generated_text': \"The script should be written in a professional manner, using a clear and concise tone to highlight the product's features and advantages.\\nThe script\"}\n"
     ]
    },
    {
     "name": "stderr",
     "output_type": "stream",
     "text": [
      "[Parallel(n_jobs=3)]: Done   3 out of   3 | elapsed:    2.5s finished\n"
     ]
    }
   ],
   "source": [
    "from joblib import Parallel, delayed\n",
    "import time\n",
    "prompts = [prompt_live,prompt_live,prompt_live]\n",
    "\n",
    "\n",
    "def call_endpoint(prompt):\n",
    "    input = {\"inputs\": prompt, \"parameters\": parameters}\n",
    "    input = json.dumps(input)\n",
    "    start = time.time()\n",
    "\n",
    "    response = smr_client.invoke_endpoint(EndpointName=endpoint_name,\n",
    "                                       ContentType='application/json',\n",
    "                                       Accept='application/json',\n",
    "                                       Body=input)\n",
    "    results = response['Body'].read().decode(\"utf-8\")\n",
    "    end = time.time()\n",
    "    process_time=end-start\n",
    "    print(\"process time:\"+str(int(process_time)))\n",
    "    ouputJson=json.loads(results)\n",
    "    print(ouputJson)\n",
    "\n",
    "\n",
    "results = Parallel(n_jobs=3, prefer='threads', verbose=1)(\n",
    "    delayed(call_endpoint)(prompt)\n",
    "    for prompt in prompts\n",
    ")"
   ]
  },
  {
   "cell_type": "code",
   "execution_count": 25,
   "id": "d799ff95",
   "metadata": {
    "tags": []
   },
   "outputs": [
    {
     "name": "stdout",
     "output_type": "stream",
     "text": [
      "CPU times: user 9 µs, sys: 0 ns, total: 9 µs\n",
      "Wall time: 15.3 µs\n"
     ]
    }
   ],
   "source": [
    "%%time\n",
    "parameters = {\n",
    "                \"max_new_tokens\": 300,\n",
    "                #\"do_sample\": True,\n",
    "                \"temperature\": 0.5\n",
    "            }\n",
    "\n",
    "\n",
    "prompt_live=\"\"\"Create a captivating product promotion script for an e-commerce live broadcast host based on the following product detailed description.\n",
    "[The iPhone 14 is the latest phone officially released by Apple on September 8, 2022. It is equipped with a 6.1-inch OLED screen and offers six unique color choices: blue, purple, midnight, starlight, red, and yellow. The phone has an elegant size design, with a length of 146.7mm, a width of 71.5mm, a thickness of 7.8mm, and weighs about 172 grams. In terms of performance, the iPhone 14 is equipped with a powerful Apple A15 bionic chip, which contains a 6-core central processor, including 2 performance cores and 4 efficiency cores, and a 5-core GPU graphics processor. It not only supports practical features such as accident detection and satellite communication but also performs excellently in photography. The rear camera includes a 12-megapixel main lens and a 12-megapixel ultra-wide-angle lens, and the front camera is also 12 megapixels. In addition, the phone also supports photographic technologies such as optical engine, deep fusion technology, smart HDR 4, and portrait mode, ensuring that users can easily capture every beautiful moment.]\n",
    "The script should include the main features and advantages of the product as well as interactive segments, be written in Chinese, and be concise, interesting, and attractive, ensuring to contain all the elements mentioned above.\n",
    "\"\"\"\n",
    "prompt1 = \"\"\"根据以下反引号内的商品详细描述，为电商直播主持人创作一段引人注目的商品推介话术\n",
    "‘’‘\n",
    "iPhone 14是苹果公司在2022年9月8日正式发布的最新手机。它配备了一块6.1英寸的OLED屏幕，并提供了六种独特的颜色选择：蓝色、紫色、午夜色、星光色、红色和黄色。手机的尺寸设计优雅，长度为146.7毫米，宽度为71.5毫米，厚度为7.8毫米，重量约为172克。\n",
    "在性能上，iPhone 14搭载了强大的苹果A15仿生芯片，内部含有6 核中央处理器，有 2 个性能核心和 4 个能效核心，还有5 核GPU图形处理器。。它不仅支持车祸检测和卫星通信等实用功能，而且在拍照方面也表现出色。\n",
    "后置摄像头包括一个1200万像素的主镜头和一个1200万像素的超广角镜头，前置摄像头也是1200万像素\n",
    "此外，该手机还支持光像引擎、深度融合技术、智能HDR4和人像模式等摄影技术，确保用户可以轻松捕捉每一个美好瞬间\n",
    "’‘’\n",
    "话术中应包括商品的主要特点、优势及互动环节,使用中文撰写，并保持话术简洁、有趣且具吸引力,并确保包含上述要求的所有元素\"\"\"\n",
    "\n",
    "prompt2=\"\"\"根据以下反引号内的关键词，为电商直播主持人创作一段通用的开场、互动或欢迎话术。请确保话术融入这些关键词，使用中文撰写，内容要简洁、有趣且具吸引力，同时适应广泛的商品和场景。\n",
    "‘’‘\n",
    "精选\n",
    "性价比\n",
    "品质\n",
    "日常家居\n",
    "穿搭\n",
    "限时折扣\n",
    "免费赠品\n",
    "抽奖活动\n",
    "大品牌合作\n",
    "独家优惠\n",
    "’‘’\n",
    "请使用上述关键词，编写一段具有普遍适用性，适于电商直播开头或互动环节的话术\"\"\"\n",
    "\n",
    "\n",
    "prompt3=\"\"\"\n",
    "请根据以下反引号内的商品描述、意图、问题模板和回答模板，为电商直播商品生成一个问答库。要求生成的回答应当有至少一组，最多五组。请确保答案基于商品描述和回答模板生成。如果无法生成回答，表示为“根据已知信息无法生成回答”。格式应如下：{{\"Q\":\"问题\",\"A\":['答案1-1','答案1-2'...]}}\n",
    "‘’‘\n",
    "商品描述：iPhone 14是苹果公司在2022年9月8日正式发布的最新手机。它配备了一块6.1英寸的OLED屏幕，并提供了六种独特的颜色选择：蓝色、紫色、午夜色、星光色、红色和黄色。手机的尺寸设计优雅，长度为146.7毫米，宽度为71.5毫米，厚度为7.8毫米，重量约为172克。\n",
    "在性能上，iPhone 14搭载了强大的苹果A15仿生芯片，内部含有6 核中央处理器，有 2 个性能核心和 4 个能效核心，还有5 核GPU图形处理器。。它不仅支持车祸检测和卫星通信等实用功能，而且在拍照方面也表现出色。后置摄像头包括一个1200万像素的主镜头和一个1200万像素的超广角镜头，前置摄像头也是1200万像素。此外，该手机还支持光像引擎、深度融合技术、智能HDR4和人像模式等摄影技术，确保用户可以轻松捕捉每一个美好瞬间。}\n",
    "意图：性能\n",
    "问题模板：手机的性能如何？\n",
    "回答模板：[商品名称]采用了最新的[芯片名称]，搭载了[核心数量]核CPU和[GPU核心数量]核GPU，为用户提供强大的性能。\n",
    "谈到[商品名称]的性能，不得不提及它的[芯片名称]，配备[核心数量]核CPU和[GPU核心数量]核GPU，应对各种任务都游刃有余。\n",
    "[商品名称]在性能上表现卓越，得益于其[芯片名称]和[核心数量]核处理器，加上[GPU核心数量]核GPU，让每次使用都顺畅无比。}\n",
    "’‘’\n",
    "问答生成：请基于上述商品描述、意图、问题模板和回答模板，为电商直播商品提供符合上述格式的问答库。\n",
    "\"\"\"\n",
    "\n",
    "prompt4=\"\"\"\n",
    "请以电商直播主持人的第一人称角度回答观众的商品相关问题。确保只回答与商品相关的问题，并只使用以下反引号内知识库的信息来回答。回答中请勿随意编造内容。格式应如下:[{{\"intention\": \"意图1\", \"answer\": \"回答1\"}},{{\"intention\": \"意图2\", \"answer\": \"回答2\"}}]\n",
    "‘’‘\n",
    "[问题：iPhone 14有哪些可选的颜色？][回答：iPhone 14提供了六种时尚的颜色选择，包括蓝色、紫色、午夜色、星光色、红色和黄色。][意图：颜色]\n",
    "[问题：关于摄像头，iPhone 14的前置和后置摄像头分辨率是多少？][回答：iPhone 14的前置和后置摄像头分辨率都是1200万像素。][意图：分辨率]\n",
    "[问题：我经常用手机办公和玩游戏，iPhone 14的性能如何？][回答：iPhone 14搭载了强大的苹果A15六核中央处理器，无论是玩游戏、看视频，还是办公，它都可以轻松应对。][意图：性能]}\n",
    "’‘’\n",
    "观众问题：主播小姐姐好漂亮\n",
    "使用第一人称直接回答观众关于商品的提问。检查知识库中是否有与观众提问相匹配的回答。对于在知识库中找到的每个匹配意图，请依次提供对应的回答，并确保从知识库中的意图中提取相应的意图标签。如果所有的意图都在知识库中找不到答案，回答“根据已知信息无法回答问题”。确保不使用emoji。\n",
    "\"\"\"\n",
    "\n",
    "other=\"\"\"我很在意手机的颜色和摄像头功能，能给我介绍一下iPhone 14在这两方面的特点吗？\n",
    "便宜点就好了\"\"\"\n",
    "#for i in range(1):\n",
    "#  response_model = smr_client.invoke_endpoint(\n",
    "#    EndpointName=endpoint_name,\n",
    "#    Body=json.dumps(\n",
    "#        {\n",
    "#            \"inputs\": prompt_live,\n",
    "#            \"parameters\": parameters,\n",
    "#        }\n",
    "#    ),\n",
    "#    ContentType=\"application/json\",\n",
    "#  )\n",
    "#  ouputJson=json.loads(response_model[\"Body\"].read().decode(\"utf-8\"))\n",
    "#  print(\"begin==\"+str(i)+\"============\")\n",
    "#  print(ouputJson[\"generated_text\"])\n",
    "\n"
   ]
  },
  {
   "cell_type": "code",
   "execution_count": 26,
   "id": "d87ff33e-2cd6-46a9-b01b-8405f737e4a9",
   "metadata": {
    "tags": []
   },
   "outputs": [],
   "source": [
    "import io\n",
    "import re\n",
    "\n",
    "def extract_unicode_chars(text):\n",
    "    pattern = r'\\\\u([\\dA-Fa-f]{4})'\n",
    "    result = re.sub(pattern, lambda m: chr(int(m.group(1), 16)), text)\n",
    "    return result\n",
    "\n",
    "\n",
    "class StreamScanner:\n",
    "    \n",
    "    def __init__(self):\n",
    "        self.buff = io.BytesIO()\n",
    "        self.read_pos = 0\n",
    "        \n",
    "    def write(self, content):\n",
    "        self.buff.seek(0, io.SEEK_END)\n",
    "        self.buff.write(content)\n",
    "        \n",
    "    def readlines(self):\n",
    "        self.buff.seek(self.read_pos)\n",
    "        for line in self.buff.readlines():\n",
    "            if line[-1] != b'\\n':\n",
    "                self.read_pos += len(line)\n",
    "                yield line[:-1]\n",
    "                \n",
    "    def reset(self):\n",
    "        self.read_pos = 0\n",
    "        \n",
    "        \n",
    "class LineIterator:\n",
    "    def __init__(self, stream):\n",
    "        self.byte_iterator = iter(stream)\n",
    "        self.buffer = io.BytesIO()\n",
    "        self.read_pos = 0\n",
    "\n",
    "    def __iter__(self):\n",
    "        return self\n",
    "\n",
    "    def __next__(self):\n",
    "        while True:\n",
    "            self.buffer.seek(self.read_pos)\n",
    "            line = self.buffer.readline()\n",
    "            if line and line[-1] == ord('\\n'):\n",
    "                self.read_pos += len(line)\n",
    "                return line[:-1]\n",
    "            try:\n",
    "                chunk = next(self.byte_iterator)\n",
    "            except StopIteration:\n",
    "                if self.read_pos < self.buffer.getbuffer().nbytes:\n",
    "                    continue\n",
    "                raise\n",
    "            if 'PayloadPart' not in chunk:\n",
    "                print('Unknown event type:' + chunk)\n",
    "                continue\n",
    "            self.buffer.seek(0, io.SEEK_END)\n",
    "            self.buffer.write(chunk['PayloadPart']['Bytes'])"
   ]
  },
  {
   "cell_type": "code",
   "execution_count": 27,
   "id": "3ea617ce-a2a7-46a1-bbbd-22e8f72f7816",
   "metadata": {
    "tags": []
   },
   "outputs": [
    {
     "name": "stdout",
     "output_type": "stream",
     "text": [
      "{\"generated_text\": \"。\n",
      "{\"generated_text\": \"。\\n\n",
      "{\"generated_text\": \"。\\n我\n",
      "{\"generated_text\": \"。\\n我们\n",
      "{\"generated_text\": \"。\\n我们预\n",
      "{\"generated_text\": \"。\\n我们预期\n",
      "{\"generated_text\": \"。\\n我们预期的\n",
      "{\"generated_text\": \"。\\n我们预期的价\n",
      "{\"generated_text\": \"。\\n我们预期的价格\n",
      "{\"generated_text\": \"。\\n我们预期的价格范\n",
      "{\"generated_text\": \"。\\n我们预期的价格范围\n",
      "{\"generated_text\": \"。\\n我们预期的价格范围为\n",
      "{\"generated_text\": \"。\\n我们预期的价格范围为5\n",
      "{\"generated_text\": \"。\\n我们预期的价格范围为50\n",
      "{\"generated_text\": \"。\\n我们预期的价格范围为500\n",
      "{\"generated_text\": \"。\\n我们预期的价格范围为500-\n",
      "{\"generated_text\": \"。\\n我们预期的价格范围为500-1\n",
      "{\"generated_text\": \"。\\n我们预期的价格范围为500-10\n",
      "{\"generated_text\": \"。\\n我们预期的价格范围为500-100\n",
      "{\"generated_text\": \"。\\n我们预期的价格范围为500-1000\n",
      "{\"generated_text\": \"。\\n我们预期的价格范围为500-1000人\n",
      "{\"generated_text\": \"。\\n我们预期的价格范围为500-1000人民\n",
      "{\"generated_text\": \"。\\n我们预期的价格范围为500-1000人民币\n",
      "{\"generated_text\": \"。\\n我们预期的价格范围为500-1000人民币。\n",
      "{\"generated_text\": \"。\\n我们预期的价格范围为500-1000人民币。\\n\n",
      "{\"generated_text\": \"。\\n我们预期的价格范围为500-1000人民币。\\n您\n",
      "{\"generated_text\": \"。\\n我们预期的价格范围为500-1000人民币。\\n您的\n",
      "{\"generated_text\": \"。\\n我们预期的价格范围为500-1000人民币。\\n您的报\n",
      "{\"generated_text\": \"。\\n我们预期的价格范围为500-1000人民币。\\n您的报价\n",
      "{\"generated_text\": \"。\\n我们预期的价格范围为500-1000人民币。\\n您的报价请\n",
      "{\"generated_text\": \"。\\n我们预期的价格范围为500-1000人民币。\\n您的报价请在\n",
      "{\"generated_text\": \"。\\n我们预期的价格范围为500-1000人民币。\\n您的报价请在2\n",
      "{\"generated_text\": \"。\\n我们预期的价格范围为500-1000人民币。\\n您的报价请在20\n",
      "{\"generated_text\": \"。\\n我们预期的价格范围为500-1000人民币。\\n您的报价请在202\n",
      "{\"generated_text\": \"。\\n我们预期的价格范围为500-1000人民币。\\n您的报价请在2022\n",
      "{\"generated_text\": \"。\\n我们预期的价格范围为500-1000人民币。\\n您的报价请在2022年\n",
      "{\"generated_text\": \"。\\n我们预期的价格范围为500-1000人民币。\\n您的报价请在2022年9\n",
      "{\"generated_text\": \"。\\n我们预期的价格范围为500-1000人民币。\\n您的报价请在2022年9月\n",
      "{\"generated_text\": \"。\\n我们预期的价格范围为500-1000人民币。\\n您的报价请在2022年9月1\n",
      "{\"generated_text\": \"。\\n我们预期的价格范围为500-1000人民币。\\n您的报价请在2022年9月14\n",
      "{\"generated_text\": \"。\\n我们预期的价格范围为500-1000人民币。\\n您的报价请在2022年9月14日\n",
      "{\"generated_text\": \"。\\n我们预期的价格范围为500-1000人民币。\\n您的报价请在2022年9月14日之\n",
      "{\"generated_text\": \"。\\n我们预期的价格范围为500-1000人民币。\\n您的报价请在2022年9月14日之前\n",
      "{\"generated_text\": \"。\\n我们预期的价格范围为500-1000人民币。\\n您的报价请在2022年9月14日之前提\n",
      "{\"generated_text\": \"。\\n我们预期的价格范围为500-1000人民币。\\n您的报价请在2022年9月14日之前提交\n",
      "{\"generated_text\": \"。\\n我们预期的价格范围为500-1000人民币。\\n您的报价请在2022年9月14日之前提交。\n",
      "{\"generated_text\": \"。\\n我们预期的价格范围为500-1000人民币。\\n您的报价请在2022年9月14日之前提交。\\n\n",
      "{\"generated_text\": \"。\\n我们预期的价格范围为500-1000人民币。\\n您的报价请在2022年9月14日之前提交。\\n您\n",
      "{\"generated_text\": \"。\\n我们预期的价格范围为500-1000人民币。\\n您的报价请在2022年9月14日之前提交。\\n您的\n",
      "{\"generated_text\": \"。\\n我们预期的价格范围为500-1000人民币。\\n您的报价请在2022年9月14日之前提交。\\n您的报\n",
      "{\"generated_text\": \"。\\n我们预期的价格范围为500-1000人民币。\\n您的报价请在2022年9月14日之前提交。\\n您的报价\n",
      "{\"generated_text\": \"。\\n我们预期的价格范围为500-1000人民币。\\n您的报价请在2022年9月14日之前提交。\\n您的报价将\n",
      "{\"generated_text\": \"。\\n我们预期的价格范围为500-1000人民币。\\n您的报价请在2022年9月14日之前提交。\\n您的报价将以\n",
      "{\"generated_text\": \"。\\n我们预期的价格范围为500-1000人民币。\\n您的报价请在2022年9月14日之前提交。\\n您的报价将以您\n",
      "{\"generated_text\": \"。\\n我们预期的价格范围为500-1000人民币。\\n您的报价请在2022年9月14日之前提交。\\n您的报价将以您提\n",
      "{\"generated_text\": \"。\\n我们预期的价格范围为500-1000人民币。\\n您的报价请在2022年9月14日之前提交。\\n您的报价将以您提交\n",
      "{\"generated_text\": \"。\\n我们预期的价格范围为500-1000人民币。\\n您的报价请在2022年9月14日之前提交。\\n您的报价将以您提交的\n",
      "{\"generated_text\": \"。\\n我们预期的价格范围为500-1000人民币。\\n您的报价请在2022年9月14日之前提交。\\n您的报价将以您提交的报\n",
      "{\"generated_text\": \"。\\n我们预期的价格范围为500-1000人民币。\\n您的报价请在2022年9月14日之前提交。\\n您的报价将以您提交的报价\n",
      "{\"generated_text\": \"。\\n我们预期的价格范围为500-1000人民币。\\n您的报价请在2022年9月14日之前提交。\\n您的报价将以您提交的报价为\n",
      "{\"generated_text\": \"。\\n我们预期的价格范围为500-1000人民币。\\n您的报价请在2022年9月14日之前提交。\\n您的报价将以您提交的报价为准\n",
      "{\"generated_text\": \"。\\n我们预期的价格范围为500-1000人民币。\\n您的报价请在2022年9月14日之前提交。\\n您的报价将以您提交的报价为准，\n",
      "{\"generated_text\": \"。\\n我们预期的价格范围为500-1000人民币。\\n您的报价请在2022年9月14日之前提交。\\n您的报价将以您提交的报价为准，且\n",
      "{\"generated_text\": \"。\\n我们预期的价格范围为500-1000人民币。\\n您的报价请在2022年9月14日之前提交。\\n您的报价将以您提交的报价为准，且不\n",
      "{\"generated_text\": \"。\\n我们预期的价格范围为500-1000人民币。\\n您的报价请在2022年9月14日之前提交。\\n您的报价将以您提交的报价为准，且不可\n",
      "{\"generated_text\": \"。\\n我们预期的价格范围为500-1000人民币。\\n您的报价请在2022年9月14日之前提交。\\n您的报价将以您提交的报价为准，且不可以\n",
      "{\"generated_text\": \"。\\n我们预期的价格范围为500-1000人民币。\\n您的报价请在2022年9月14日之前提交。\\n您的报价将以您提交的报价为准，且不可以修\n",
      "{\"generated_text\": \"。\\n我们预期的价格范围为500-1000人民币。\\n您的报价请在2022年9月14日之前提交。\\n您的报价将以您提交的报价为准，且不可以修改\n",
      "{\"generated_text\": \"。\\n我们预期的价格范围为500-1000人民币。\\n您的报价请在2022年9月14日之前提交。\\n您的报价将以您提交的报价为准，且不可以修改。\n",
      "{\"generated_text\": \"。\\n我们预期的价格范围为500-1000人民币。\\n您的报价请在2022年9月14日之前提交。\\n您的报价将以您提交的报价为准，且不可以修改。\\n\n",
      "{\"generated_text\": \"。\\n我们预期的价格范围为500-1000人民币。\\n您的报价请在2022年9月14日之前提交。\\n您的报价将以您提交的报价为准，且不可以修改。\\n您\n",
      "{\"generated_text\": \"。\\n我们预期的价格范围为500-1000人民币。\\n您的报价请在2022年9月14日之前提交。\\n您的报价将以您提交的报价为准，且不可以修改。\\n您的\n",
      "{\"generated_text\": \"。\\n我们预期的价格范围为500-1000人民币。\\n您的报价请在2022年9月14日之前提交。\\n您的报价将以您提交的报价为准，且不可以修改。\\n您的报\n",
      "{\"generated_text\": \"。\\n我们预期的价格范围为500-1000人民币。\\n您的报价请在2022年9月14日之前提交。\\n您的报价将以您提交的报价为准，且不可以修改。\\n您的报价\n",
      "{\"generated_text\": \"。\\n我们预期的价格范围为500-1000人民币。\\n您的报价请在2022年9月14日之前提交。\\n您的报价将以您提交的报价为准，且不可以修改。\\n您的报价将\n",
      "{\"generated_text\": \"。\\n我们预期的价格范围为500-1000人民币。\\n您的报价请在2022年9月14日之前提交。\\n您的报价将以您提交的报价为准，且不可以修改。\\n您的报价将在\n",
      "{\"generated_text\": \"。\\n我们预期的价格范围为500-1000人民币。\\n您的报价请在2022年9月14日之前提交。\\n您的报价将以您提交的报价为准，且不可以修改。\\n您的报价将在2\n",
      "{\"generated_text\": \"。\\n我们预期的价格范围为500-1000人民币。\\n您的报价请在2022年9月14日之前提交。\\n您的报价将以您提交的报价为准，且不可以修改。\\n您的报价将在20\n",
      "{\"generated_text\": \"。\\n我们预期的价格范围为500-1000人民币。\\n您的报价请在2022年9月14日之前提交。\\n您的报价将以您提交的报价为准，且不可以修改。\\n您的报价将在202\n",
      "{\"generated_text\": \"。\\n我们预期的价格范围为500-1000人民币。\\n您的报价请在2022年9月14日之前提交。\\n您的报价将以您提交的报价为准，且不可以修改。\\n您的报价将在2022\n",
      "{\"generated_text\": \"。\\n我们预期的价格范围为500-1000人民币。\\n您的报价请在2022年9月14日之前提交。\\n您的报价将以您提交的报价为准，且不可以修改。\\n您的报价将在2022年\n",
      "{\"generated_text\": \"。\\n我们预期的价格范围为500-1000人民币。\\n您的报价请在2022年9月14日之前提交。\\n您的报价将以您提交的报价为准，且不可以修改。\\n您的报价将在2022年9\n",
      "{\"generated_text\": \"。\\n我们预期的价格范围为500-1000人民币。\\n您的报价请在2022年9月14日之前提交。\\n您的报价将以您提交的报价为准，且不可以修改。\\n您的报价将在2022年9月\n",
      "{\"generated_text\": \"。\\n我们预期的价格范围为500-1000人民币。\\n您的报价请在2022年9月14日之前提交。\\n您的报价将以您提交的报价为准，且不可以修改。\\n您的报价将在2022年9月1\n",
      "{\"generated_text\": \"。\\n我们预期的价格范围为500-1000人民币。\\n您的报价请在2022年9月14日之前提交。\\n您的报价将以您提交的报价为准，且不可以修改。\\n您的报价将在2022年9月14\n",
      "{\"generated_text\": \"。\\n我们预期的价格范围为500-1000人民币。\\n您的报价请在2022年9月14日之前提交。\\n您的报价将以您提交的报价为准，且不可以修改。\\n您的报价将在2022年9月14日\n",
      "{\"generated_text\": \"。\\n我们预期的价格范围为500-1000人民币。\\n您的报价请在2022年9月14日之前提交。\\n您的报价将以您提交的报价为准，且不可以修改。\\n您的报价将在2022年9月14日之\n",
      "{\"generated_text\": \"。\\n我们预期的价格范围为500-1000人民币。\\n您的报价请在2022年9月14日之前提交。\\n您的报价将以您提交的报价为准，且不可以修改。\\n您的报价将在2022年9月14日之后\n",
      "{\"generated_text\": \"。\\n我们预期的价格范围为500-1000人民币。\\n您的报价请在2022年9月14日之前提交。\\n您的报价将以您提交的报价为准，且不可以修改。\\n您的报价将在2022年9月14日之后公\n",
      "{\"generated_text\": \"。\\n我们预期的价格范围为500-1000人民币。\\n您的报价请在2022年9月14日之前提交。\\n您的报价将以您提交的报价为准，且不可以修改。\\n您的报价将在2022年9月14日之后公布\n",
      "{\"generated_text\": \"。\\n我们预期的价格范围为500-1000人民币。\\n您的报价请在2022年9月14日之前提交。\\n您的报价将以您提交的报价为准，且不可以修改。\\n您的报价将在2022年9月14日之后公布。\n",
      "{\"generated_text\": \"。\\n我们预期的价格范围为500-1000人民币。\\n您的报价请在2022年9月14日之前提交。\\n您的报价将以您提交的报价为准，且不可以修改。\\n您的报价将在2022年9月14日之后公布。\\n\n",
      "{\"generated_text\": \"。\\n我们预期的价格范围为500-1000人民币。\\n您的报价请在2022年9月14日之前提交。\\n您的报价将以您提交的报价为准，且不可以修改。\\n您的报价将在2022年9月14日之后公布。\\n您\n",
      "{\"generated_text\": \"。\\n我们预期的价格范围为500-1000人民币。\\n您的报价请在2022年9月14日之前提交。\\n您的报价将以您提交的报价为准，且不可以修改。\\n您的报价将在2022年9月14日之后公布。\\n您的\n",
      "{\"generated_text\": \"。\\n我们预期的价格范围为500-1000人民币。\\n您的报价请在2022年9月14日之前提交。\\n您的报价将以您提交的报价为准，且不可以修改。\\n您的报价将在2022年9月14日之后公布。\\n您的报\n",
      "{\"generated_text\": \"。\\n我们预期的价格范围为500-1000人民币。\\n您的报价请在2022年9月14日之前提交。\\n您的报价将以您提交的报价为准，且不可以修改。\\n您的报价将在2022年9月14日之后公布。\\n您的报价\n",
      "{\"generated_text\": \"。\\n我们预期的价格范围为500-1000人民币。\\n您的报价请在2022年9月14日之前提交。\\n您的报价将以您提交的报价为准，且不可以修改。\\n您的报价将在2022年9月14日之后公布。\\n您的报价将\n",
      "{\"generated_text\": \"。\\n我们预期的价格范围为500-1000人民币。\\n您的报价请在2022年9月14日之前提交。\\n您的报价将以您提交的报价为准，且不可以修改。\\n您的报价将在2022年9月14日之后公布。\\n您的报价将被\n",
      "{\"generated_text\": \"。\\n我们预期的价格范围为500-1000人民币。\\n您的报价请在2022年9月14日之前提交。\\n您的报价将以您提交的报价为准，且不可以修改。\\n您的报价将在2022年9月14日之后公布。\\n您的报价将被公\n",
      "{\"generated_text\": \"。\\n我们预期的价格范围为500-1000人民币。\\n您的报价请在2022年9月14日之前提交。\\n您的报价将以您提交的报价为准，且不可以修改。\\n您的报价将在2022年9月14日之后公布。\\n您的报价将被公布\n",
      "{\"generated_text\": \"。\\n我们预期的价格范围为500-1000人民币。\\n您的报价请在2022年9月14日之前提交。\\n您的报价将以您提交的报价为准，且不可以修改。\\n您的报价将在2022年9月14日之后公布。\\n您的报价将被公布在\n",
      "{\"generated_text\": \"。\\n我们预期的价格范围为500-1000人民币。\\n您的报价请在2022年9月14日之前提交。\\n您的报价将以您提交的报价为准，且不可以修改。\\n您的报价将在2022年9月14日之后公布。\\n您的报价将被公布在您\n",
      "{\"generated_text\": \"。\\n我们预期的价格范围为500-1000人民币。\\n您的报价请在2022年9月14日之前提交。\\n您的报价将以您提交的报价为准，且不可以修改。\\n您的报价将在2022年9月14日之后公布。\\n您的报价将被公布在您提\n",
      "{\"generated_text\": \"。\\n我们预期的价格范围为500-1000人民币。\\n您的报价请在2022年9月14日之前提交。\\n您的报价将以您提交的报价为准，且不可以修改。\\n您的报价将在2022年9月14日之后公布。\\n您的报价将被公布在您提交\n",
      "{\"generated_text\": \"。\\n我们预期的价格范围为500-1000人民币。\\n您的报价请在2022年9月14日之前提交。\\n您的报价将以您提交的报价为准，且不可以修改。\\n您的报价将在2022年9月14日之后公布。\\n您的报价将被公布在您提交的\n",
      "{\"generated_text\": \"。\\n我们预期的价格范围为500-1000人民币。\\n您的报价请在2022年9月14日之前提交。\\n您的报价将以您提交的报价为准，且不可以修改。\\n您的报价将在2022年9月14日之后公布。\\n您的报价将被公布在您提交的报\n",
      "{\"generated_text\": \"。\\n我们预期的价格范围为500-1000人民币。\\n您的报价请在2022年9月14日之前提交。\\n您的报价将以您提交的报价为准，且不可以修改。\\n您的报价将在2022年9月14日之后公布。\\n您的报价将被公布在您提交的报价\n",
      "{\"generated_text\": \"。\\n我们预期的价格范围为500-1000人民币。\\n您的报价请在2022年9月14日之前提交。\\n您的报价将以您提交的报价为准，且不可以修改。\\n您的报价将在2022年9月14日之后公布。\\n您的报价将被公布在您提交的报价日\n",
      "{\"generated_text\": \"。\\n我们预期的价格范围为500-1000人民币。\\n您的报价请在2022年9月14日之前提交。\\n您的报价将以您提交的报价为准，且不可以修改。\\n您的报价将在2022年9月14日之后公布。\\n您的报价将被公布在您提交的报价日期\n",
      "{\"generated_text\": \"。\\n我们预期的价格范围为500-1000人民币。\\n您的报价请在2022年9月14日之前提交。\\n您的报价将以您提交的报价为准，且不可以修改。\\n您的报价将在2022年9月14日之后公布。\\n您的报价将被公布在您提交的报价日期之\n",
      "{\"generated_text\": \"。\\n我们预期的价格范围为500-1000人民币。\\n您的报价请在2022年9月14日之前提交。\\n您的报价将以您提交的报价为准，且不可以修改。\\n您的报价将在2022年9月14日之后公布。\\n您的报价将被公布在您提交的报价日期之后\n",
      "{\"generated_text\": \"。\\n我们预期的价格范围为500-1000人民币。\\n您的报价请在2022年9月14日之前提交。\\n您的报价将以您提交的报价为准，且不可以修改。\\n您的报价将在2022年9月14日之后公布。\\n您的报价将被公布在您提交的报价日期之后2\n",
      "{\"generated_text\": \"。\\n我们预期的价格范围为500-1000人民币。\\n您的报价请在2022年9月14日之前提交。\\n您的报价将以您提交的报价为准，且不可以修改。\\n您的报价将在2022年9月14日之后公布。\\n您的报价将被公布在您提交的报价日期之后24\n",
      "{\"generated_text\": \"。\\n我们预期的价格范围为500-1000人民币。\\n您的报价请在2022年9月14日之前提交。\\n您的报价将以您提交的报价为准，且不可以修改。\\n您的报价将在2022年9月14日之后公布。\\n您的报价将被公布在您提交的报价日期之后24小\n",
      "{\"generated_text\": \"。\\n我们预期的价格范围为500-1000人民币。\\n您的报价请在2022年9月14日之前提交。\\n您的报价将以您提交的报价为准，且不可以修改。\\n您的报价将在2022年9月14日之后公布。\\n您的报价将被公布在您提交的报价日期之后24小时\n",
      "{\"generated_text\": \"。\\n我们预期的价格范围为500-1000人民币。\\n您的报价请在2022年9月14日之前提交。\\n您的报价将以您提交的报价为准，且不可以修改。\\n您的报价将在2022年9月14日之后公布。\\n您的报价将被公布在您提交的报价日期之后24小时内\n",
      "{\"generated_text\": \"。\\n我们预期的价格范围为500-1000人民币。\\n您的报价请在2022年9月14日之前提交。\\n您的报价将以您提交的报价为准，且不可以修改。\\n您的报价将在2022年9月14日之后公布。\\n您的报价将被公布在您提交的报价日期之后24小时内。\n",
      "{\"generated_text\": \"。\\n我们预期的价格范围为500-1000人民币。\\n您的报价请在2022年9月14日之前提交。\\n您的报价将以您提交的报价为准，且不可以修改。\\n您的报价将在2022年9月14日之后公布。\\n您的报价将被公布在您提交的报价日期之后24小时内。\\n\n",
      "{\"generated_text\": \"。\\n我们预期的价格范围为500-1000人民币。\\n您的报价请在2022年9月14日之前提交。\\n您的报价将以您提交的报价为准，且不可以修改。\\n您的报价将在2022年9月14日之后公布。\\n您的报价将被公布在您提交的报价日期之后24小时内。\\n您\n",
      "{\"generated_text\": \"。\\n我们预期的价格范围为500-1000人民币。\\n您的报价请在2022年9月14日之前提交。\\n您的报价将以您提交的报价为准，且不可以修改。\\n您的报价将在2022年9月14日之后公布。\\n您的报价将被公布在您提交的报价日期之后24小时内。\\n您的\n",
      "{\"generated_text\": \"。\\n我们预期的价格范围为500-1000人民币。\\n您的报价请在2022年9月14日之前提交。\\n您的报价将以您提交的报价为准，且不可以修改。\\n您的报价将在2022年9月14日之后公布。\\n您的报价将被公布在您提交的报价日期之后24小时内。\\n您的报\n",
      "{\"generated_text\": \"。\\n我们预期的价格范围为500-1000人民币。\\n您的报价请在2022年9月14日之前提交。\\n您的报价将以您提交的报价为准，且不可以修改。\\n您的报价将在2022年9月14日之后公布。\\n您的报价将被公布在您提交的报价日期之后24小时内。\\n您的报价\n",
      "{\"generated_text\": \"。\\n我们预期的价格范围为500-1000人民币。\\n您的报价请在2022年9月14日之前提交。\\n您的报价将以您提交的报价为准，且不可以修改。\\n您的报价将在2022年9月14日之后公布。\\n您的报价将被公布在您提交的报价日期之后24小时内。\\n您的报价将\n",
      "{\"generated_text\": \"。\\n我们预期的价格范围为500-1000人民币。\\n您的报价请在2022年9月14日之前提交。\\n您的报价将以您提交的报价为准，且不可以修改。\\n您的报价将在2022年9月14日之后公布。\\n您的报价将被公布在您提交的报价日期之后24小时内。\\n您的报价将被\n",
      "{\"generated_text\": \"。\\n我们预期的价格范围为500-1000人民币。\\n您的报价请在2022年9月14日之前提交。\\n您的报价将以您提交的报价为准，且不可以修改。\\n您的报价将在2022年9月14日之后公布。\\n您的报价将被公布在您提交的报价日期之后24小时内。\\n您的报价将被公\n",
      "{\"generated_text\": \"。\\n我们预期的价格范围为500-1000人民币。\\n您的报价请在2022年9月14日之前提交。\\n您的报价将以您提交的报价为准，且不可以修改。\\n您的报价将在2022年9月14日之后公布。\\n您的报价将被公布在您提交的报价日期之后24小时内。\\n您的报价将被公布\n",
      "{\"generated_text\": \"。\\n我们预期的价格范围为500-1000人民币。\\n您的报价请在2022年9月14日之前提交。\\n您的报价将以您提交的报价为准，且不可以修改。\\n您的报价将在2022年9月14日之后公布。\\n您的报价将被公布在您提交的报价日期之后24小时内。\\n您的报价将被公布在\n",
      "{\"generated_text\": \"。\\n我们预期的价格范围为500-1000人民币。\\n您的报价请在2022年9月14日之前提交。\\n您的报价将以您提交的报价为准，且不可以修改。\\n您的报价将在2022年9月14日之后公布。\\n您的报价将被公布在您提交的报价日期之后24小时内。\\n您的报价将被公布在您\n",
      "{\"generated_text\": \"。\\n我们预期的价格范围为500-1000人民币。\\n您的报价请在2022年9月14日之前提交。\\n您的报价将以您提交的报价为准，且不可以修改。\\n您的报价将在2022年9月14日之后公布。\\n您的报价将被公布在您提交的报价日期之后24小时内。\\n您的报价将被公布在您提\n",
      "{\"generated_text\": \"。\\n我们预期的价格范围为500-1000人民币。\\n您的报价请在2022年9月14日之前提交。\\n您的报价将以您提交的报价为准，且不可以修改。\\n您的报价将在2022年9月14日之后公布。\\n您的报价将被公布在您提交的报价日期之后24小时内。\\n您的报价将被公布在您提交\n",
      "{\"generated_text\": \"。\\n我们预期的价格范围为500-1000人民币。\\n您的报价请在2022年9月14日之前提交。\\n您的报价将以您提交的报价为准，且不可以修改。\\n您的报价将在2022年9月14日之后公布。\\n您的报价将被公布在您提交的报价日期之后24小时内。\\n您的报价将被公布在您提交的\n",
      "{\"generated_text\": \"。\\n我们预期的价格范围为500-1000人民币。\\n您的报价请在2022年9月14日之前提交。\\n您的报价将以您提交的报价为准，且不可以修改。\\n您的报价将在2022年9月14日之后公布。\\n您的报价将被公布在您提交的报价日期之后24小时内。\\n您的报价将被公布在您提交的报\n",
      "{\"generated_text\": \"。\\n我们预期的价格范围为500-1000人民币。\\n您的报价请在2022年9月14日之前提交。\\n您的报价将以您提交的报价为准，且不可以修改。\\n您的报价将在2022年9月14日之后公布。\\n您的报价将被公布在您提交的报价日期之后24小时内。\\n您的报价将被公布在您提交的报价\n",
      "{\"generated_text\": \"。\\n我们预期的价格范围为500-1000人民币。\\n您的报价请在2022年9月14日之前提交。\\n您的报价将以您提交的报价为准，且不可以修改。\\n您的报价将在2022年9月14日之后公布。\\n您的报价将被公布在您提交的报价日期之后24小时内。\\n您的报价将被公布在您提交的报价日\n",
      "{\"generated_text\": \"。\\n我们预期的价格范围为500-1000人民币。\\n您的报价请在2022年9月14日之前提交。\\n您的报价将以您提交的报价为准，且不可以修改。\\n您的报价将在2022年9月14日之后公布。\\n您的报价将被公布在您提交的报价日期之后24小时内。\\n您的报价将被公布在您提交的报价日期\n",
      "{\"generated_text\": \"。\\n我们预期的价格范围为500-1000人民币。\\n您的报价请在2022年9月14日之前提交。\\n您的报价将以您提交的报价为准，且不可以修改。\\n您的报价将在2022年9月14日之后公布。\\n您的报价将被公布在您提交的报价日期之后24小时内。\\n您的报价将被公布在您提交的报价日期之\n",
      "{\"generated_text\": \"。\\n我们预期的价格范围为500-1000人民币。\\n您的报价请在2022年9月14日之前提交。\\n您的报价将以您提交的报价为准，且不可以修改。\\n您的报价将在2022年9月14日之后公布。\\n您的报价将被公布在您提交的报价日期之后24小时内。\\n您的报价将被公布在您提交的报价日期之后\n",
      "{\"generated_text\": \"。\\n我们预期的价格范围为500-1000人民币。\\n您的报价请在2022年9月14日之前提交。\\n您的报价将以您提交的报价为准，且不可以修改。\\n您的报价将在2022年9月14日之后公布。\\n您的报价将被公布在您提交的报价日期之后24小时内。\\n您的报价将被公布在您提交的报价日期之后2\n",
      "{\"generated_text\": \"。\\n我们预期的价格范围为500-1000人民币。\\n您的报价请在2022年9月14日之前提交。\\n您的报价将以您提交的报价为准，且不可以修改。\\n您的报价将在2022年9月14日之后公布。\\n您的报价将被公布在您提交的报价日期之后24小时内。\\n您的报价将被公布在您提交的报价日期之后24\n",
      "{\"generated_text\": \"。\\n我们预期的价格范围为500-1000人民币。\\n您的报价请在2022年9月14日之前提交。\\n您的报价将以您提交的报价为准，且不可以修改。\\n您的报价将在2022年9月14日之后公布。\\n您的报价将被公布在您提交的报价日期之后24小时内。\\n您的报价将被公布在您提交的报价日期之后24小\n",
      "{\"generated_text\": \"。\\n我们预期的价格范围为500-1000人民币。\\n您的报价请在2022年9月14日之前提交。\\n您的报价将以您提交的报价为准，且不可以修改。\\n您的报价将在2022年9月14日之后公布。\\n您的报价将被公布在您提交的报价日期之后24小时内。\\n您的报价将被公布在您提交的报价日期之后24小时\n",
      "{\"generated_text\": \"。\\n我们预期的价格范围为500-1000人民币。\\n您的报价请在2022年9月14日之前提交。\\n您的报价将以您提交的报价为准，且不可以修改。\\n您的报价将在2022年9月14日之后公布。\\n您的报价将被公布在您提交的报价日期之后24小时内。\\n您的报价将被公布在您提交的报价日期之后24小时内\n",
      "{\"generated_text\": \"。\\n我们预期的价格范围为500-1000人民币。\\n您的报价请在2022年9月14日之前提交。\\n您的报价将以您提交的报价为准，且不可以修改。\\n您的报价将在2022年9月14日之后公布。\\n您的报价将被公布在您提交的报价日期之后24小时内。\\n您的报价将被公布在您提交的报价日期之后24小时内。\n",
      "{\"generated_text\": \"。\\n我们预期的价格范围为500-1000人民币。\\n您的报价请在2022年9月14日之前提交。\\n您的报价将以您提交的报价为准，且不可以修改。\\n您的报价将在2022年9月14日之后公布。\\n您的报价将被公布在您提交的报价日期之后24小时内。\\n您的报价将被公布在您提交的报价日期之后24小时内。\\n\n",
      "{\"generated_text\": \"。\\n我们预期的价格范围为500-1000人民币。\\n您的报价请在2022年9月14日之前提交。\\n您的报价将以您提交的报价为准，且不可以修改。\\n您的报价将在2022年9月14日之后公布。\\n您的报价将被公布在您提交的报价日期之后24小时内。\\n您的报价将被公布在您提交的报价日期之后24小时内。\\n您\n",
      "{\"generated_text\": \"。\\n我们预期的价格范围为500-1000人民币。\\n您的报价请在2022年9月14日之前提交。\\n您的报价将以您提交的报价为准，且不可以修改。\\n您的报价将在2022年9月14日之后公布。\\n您的报价将被公布在您提交的报价日期之后24小时内。\\n您的报价将被公布在您提交的报价日期之后24小时内。\\n您的\n",
      "{\"generated_text\": \"。\\n我们预期的价格范围为500-1000人民币。\\n您的报价请在2022年9月14日之前提交。\\n您的报价将以您提交的报价为准，且不可以修改。\\n您的报价将在2022年9月14日之后公布。\\n您的报价将被公布在您提交的报价日期之后24小时内。\\n您的报价将被公布在您提交的报价日期之后24小时内。\\n您的报\n",
      "{\"generated_text\": \"。\\n我们预期的价格范围为500-1000人民币。\\n您的报价请在2022年9月14日之前提交。\\n您的报价将以您提交的报价为准，且不可以修改。\\n您的报价将在2022年9月14日之后公布。\\n您的报价将被公布在您提交的报价日期之后24小时内。\\n您的报价将被公布在您提交的报价日期之后24小时内。\\n您的报价\n",
      "{\"generated_text\": \"。\\n我们预期的价格范围为500-1000人民币。\\n您的报价请在2022年9月14日之前提交。\\n您的报价将以您提交的报价为准，且不可以修改。\\n您的报价将在2022年9月14日之后公布。\\n您的报价将被公布在您提交的报价日期之后24小时内。\\n您的报价将被公布在您提交的报价日期之后24小时内。\\n您的报价将\n",
      "{\"generated_text\": \"。\\n我们预期的价格范围为500-1000人民币。\\n您的报价请在2022年9月14日之前提交。\\n您的报价将以您提交的报价为准，且不可以修改。\\n您的报价将在2022年9月14日之后公布。\\n您的报价将被公布在您提交的报价日期之后24小时内。\\n您的报价将被公布在您提交的报价日期之后24小时内。\\n您的报价将被\n",
      "{\"generated_text\": \"。\\n我们预期的价格范围为500-1000人民币。\\n您的报价请在2022年9月14日之前提交。\\n您的报价将以您提交的报价为准，且不可以修改。\\n您的报价将在2022年9月14日之后公布。\\n您的报价将被公布在您提交的报价日期之后24小时内。\\n您的报价将被公布在您提交的报价日期之后24小时内。\\n您的报价将被公\n",
      "{\"generated_text\": \"。\\n我们预期的价格范围为500-1000人民币。\\n您的报价请在2022年9月14日之前提交。\\n您的报价将以您提交的报价为准，且不可以修改。\\n您的报价将在2022年9月14日之后公布。\\n您的报价将被公布在您提交的报价日期之后24小时内。\\n您的报价将被公布在您提交的报价日期之后24小时内。\\n您的报价将被公布\n",
      "{\"generated_text\": \"。\\n我们预期的价格范围为500-1000人民币。\\n您的报价请在2022年9月14日之前提交。\\n您的报价将以您提交的报价为准，且不可以修改。\\n您的报价将在2022年9月14日之后公布。\\n您的报价将被公布在您提交的报价日期之后24小时内。\\n您的报价将被公布在您提交的报价日期之后24小时内。\\n您的报价将被公布在\n",
      "{\"generated_text\": \"。\\n我们预期的价格范围为500-1000人民币。\\n您的报价请在2022年9月14日之前提交。\\n您的报价将以您提交的报价为准，且不可以修改。\\n您的报价将在2022年9月14日之后公布。\\n您的报价将被公布在您提交的报价日期之后24小时内。\\n您的报价将被公布在您提交的报价日期之后24小时内。\\n您的报价将被公布在您\n",
      "{\"generated_text\": \"。\\n我们预期的价格范围为500-1000人民币。\\n您的报价请在2022年9月14日之前提交。\\n您的报价将以您提交的报价为准，且不可以修改。\\n您的报价将在2022年9月14日之后公布。\\n您的报价将被公布在您提交的报价日期之后24小时内。\\n您的报价将被公布在您提交的报价日期之后24小时内。\\n您的报价将被公布在您提\n",
      "{\"generated_text\": \"。\\n我们预期的价格范围为500-1000人民币。\\n您的报价请在2022年9月14日之前提交。\\n您的报价将以您提交的报价为准，且不可以修改。\\n您的报价将在2022年9月14日之后公布。\\n您的报价将被公布在您提交的报价日期之后24小时内。\\n您的报价将被公布在您提交的报价日期之后24小时内。\\n您的报价将被公布在您提交\n",
      "{\"generated_text\": \"。\\n我们预期的价格范围为500-1000人民币。\\n您的报价请在2022年9月14日之前提交。\\n您的报价将以您提交的报价为准，且不可以修改。\\n您的报价将在2022年9月14日之后公布。\\n您的报价将被公布在您提交的报价日期之后24小时内。\\n您的报价将被公布在您提交的报价日期之后24小时内。\\n您的报价将被公布在您提交的\n",
      "{\"generated_text\": \"。\\n我们预期的价格范围为500-1000人民币。\\n您的报价请在2022年9月14日之前提交。\\n您的报价将以您提交的报价为准，且不可以修改。\\n您的报价将在2022年9月14日之后公布。\\n您的报价将被公布在您提交的报价日期之后24小时内。\\n您的报价将被公布在您提交的报价日期之后24小时内。\\n您的报价将被公布在您提交的报\n",
      "{\"generated_text\": \"。\\n我们预期的价格范围为500-1000人民币。\\n您的报价请在2022年9月14日之前提交。\\n您的报价将以您提交的报价为准，且不可以修改。\\n您的报价将在2022年9月14日之后公布。\\n您的报价将被公布在您提交的报价日期之后24小时内。\\n您的报价将被公布在您提交的报价日期之后24小时内。\\n您的报价将被公布在您提交的报价\n",
      "{\"generated_text\": \"。\\n我们预期的价格范围为500-1000人民币。\\n您的报价请在2022年9月14日之前提交。\\n您的报价将以您提交的报价为准，且不可以修改。\\n您的报价将在2022年9月14日之后公布。\\n您的报价将被公布在您提交的报价日期之后24小时内。\\n您的报价将被公布在您提交的报价日期之后24小时内。\\n您的报价将被公布在您提交的报价日\n",
      "{\"generated_text\": \"。\\n我们预期的价格范围为500-1000人民币。\\n您的报价请在2022年9月14日之前提交。\\n您的报价将以您提交的报价为准，且不可以修改。\\n您的报价将在2022年9月14日之后公布。\\n您的报价将被公布在您提交的报价日期之后24小时内。\\n您的报价将被公布在您提交的报价日期之后24小时内。\\n您的报价将被公布在您提交的报价日期\n",
      "{\"generated_text\": \"。\\n我们预期的价格范围为500-1000人民币。\\n您的报价请在2022年9月14日之前提交。\\n您的报价将以您提交的报价为准，且不可以修改。\\n您的报价将在2022年9月14日之后公布。\\n您的报价将被公布在您提交的报价日期之后24小时内。\\n您的报价将被公布在您提交的报价日期之后24小时内。\\n您的报价将被公布在您提交的报价日期之\n",
      "{\"generated_text\": \"。\\n我们预期的价格范围为500-1000人民币。\\n您的报价请在2022年9月14日之前提交。\\n您的报价将以您提交的报价为准，且不可以修改。\\n您的报价将在2022年9月14日之后公布。\\n您的报价将被公布在您提交的报价日期之后24小时内。\\n您的报价将被公布在您提交的报价日期之后24小时内。\\n您的报价将被公布在您提交的报价日期之后\n",
      "{\"generated_text\": \"。\\n我们预期的价格范围为500-1000人民币。\\n您的报价请在2022年9月14日之前提交。\\n您的报价将以您提交的报价为准，且不可以修改。\\n您的报价将在2022年9月14日之后公布。\\n您的报价将被公布在您提交的报价日期之后24小时内。\\n您的报价将被公布在您提交的报价日期之后24小时内。\\n您的报价将被公布在您提交的报价日期之后2\n",
      "{\"generated_text\": \"。\\n我们预期的价格范围为500-1000人民币。\\n您的报价请在2022年9月14日之前提交。\\n您的报价将以您提交的报价为准，且不可以修改。\\n您的报价将在2022年9月14日之后公布。\\n您的报价将被公布在您提交的报价日期之后24小时内。\\n您的报价将被公布在您提交的报价日期之后24小时内。\\n您的报价将被公布在您提交的报价日期之后24\n",
      "{\"generated_text\": \"。\\n我们预期的价格范围为500-1000人民币。\\n您的报价请在2022年9月14日之前提交。\\n您的报价将以您提交的报价为准，且不可以修改。\\n您的报价将在2022年9月14日之后公布。\\n您的报价将被公布在您提交的报价日期之后24小时内。\\n您的报价将被公布在您提交的报价日期之后24小时内。\\n您的报价将被公布在您提交的报价日期之后24小\n",
      "{\"generated_text\": \"。\\n我们预期的价格范围为500-1000人民币。\\n您的报价请在2022年9月14日之前提交。\\n您的报价将以您提交的报价为准，且不可以修改。\\n您的报价将在2022年9月14日之后公布。\\n您的报价将被公布在您提交的报价日期之后24小时内。\\n您的报价将被公布在您提交的报价日期之后24小时内。\\n您的报价将被公布在您提交的报价日期之后24小时\n",
      "{\"generated_text\": \"。\\n我们预期的价格范围为500-1000人民币。\\n您的报价请在2022年9月14日之前提交。\\n您的报价将以您提交的报价为准，且不可以修改。\\n您的报价将在2022年9月14日之后公布。\\n您的报价将被公布在您提交的报价日期之后24小时内。\\n您的报价将被公布在您提交的报价日期之后24小时内。\\n您的报价将被公布在您提交的报价日期之后24小时内\n",
      "{\"generated_text\": \"。\\n我们预期的价格范围为500-1000人民币。\\n您的报价请在2022年9月14日之前提交。\\n您的报价将以您提交的报价为准，且不可以修改。\\n您的报价将在2022年9月14日之后公布。\\n您的报价将被公布在您提交的报价日期之后24小时内。\\n您的报价将被公布在您提交的报价日期之后24小时内。\\n您的报价将被公布在您提交的报价日期之后24小时内，\n",
      "{\"generated_text\": \"。\\n我们预期的价格范围为500-1000人民币。\\n您的报价请在2022年9月14日之前提交。\\n您的报价将以您提交的报价为准，且不可以修改。\\n您的报价将在2022年9月14日之后公布。\\n您的报价将被公布在您提交的报价日期之后24小时内。\\n您的报价将被公布在您提交的报价日期之后24小时内。\\n您的报价将被公布在您提交的报价日期之后24小时内，且\n",
      "{\"generated_text\": \"。\\n我们预期的价格范围为500-1000人民币。\\n您的报价请在2022年9月14日之前提交。\\n您的报价将以您提交的报价为准，且不可以修改。\\n您的报价将在2022年9月14日之后公布。\\n您的报价将被公布在您提交的报价日期之后24小时内。\\n您的报价将被公布在您提交的报价日期之后24小时内。\\n您的报价将被公布在您提交的报价日期之后24小时内，且不\n",
      "{\"generated_text\": \"。\\n我们预期的价格范围为500-1000人民币。\\n您的报价请在2022年9月14日之前提交。\\n您的报价将以您提交的报价为准，且不可以修改。\\n您的报价将在2022年9月14日之后公布。\\n您的报价将被公布在您提交的报价日期之后24小时内。\\n您的报价将被公布在您提交的报价日期之后24小时内。\\n您的报价将被公布在您提交的报价日期之后24小时内，且不可\n",
      "{\"generated_text\": \"。\\n我们预期的价格范围为500-1000人民币。\\n您的报价请在2022年9月14日之前提交。\\n您的报价将以您提交的报价为准，且不可以修改。\\n您的报价将在2022年9月14日之后公布。\\n您的报价将被公布在您提交的报价日期之后24小时内。\\n您的报价将被公布在您提交的报价日期之后24小时内。\\n您的报价将被公布在您提交的报价日期之后24小时内，且不可以\n",
      "{\"generated_text\": \"。\\n我们预期的价格范围为500-1000人民币。\\n您的报价请在2022年9月14日之前提交。\\n您的报价将以您提交的报价为准，且不可以修改。\\n您的报价将在2022年9月14日之后公布。\\n您的报价将被公布在您提交的报价日期之后24小时内。\\n您的报价将被公布在您提交的报价日期之后24小时内。\\n您的报价将被公布在您提交的报价日期之后24小时内，且不可以修\n",
      "{\"generated_text\": \"。\\n我们预期的价格范围为500-1000人民币。\\n您的报价请在2022年9月14日之前提交。\\n您的报价将以您提交的报价为准，且不可以修改。\\n您的报价将在2022年9月14日之后公布。\\n您的报价将被公布在您提交的报价日期之后24小时内。\\n您的报价将被公布在您提交的报价日期之后24小时内。\\n您的报价将被公布在您提交的报价日期之后24小时内，且不可以修改\n",
      "{\"generated_text\": \"。\\n我们预期的价格范围为500-1000人民币。\\n您的报价请在2022年9月14日之前提交。\\n您的报价将以您提交的报价为准，且不可以修改。\\n您的报价将在2022年9月14日之后公布。\\n您的报价将被公布在您提交的报价日期之后24小时内。\\n您的报价将被公布在您提交的报价日期之后24小时内。\\n您的报价将被公布在您提交的报价日期之后24小时内，且不可以修改。\n",
      "{\"generated_text\": \"。\\n我们预期的价格范围为500-1000人民币。\\n您的报价请在2022年9月14日之前提交。\\n您的报价将以您提交的报价为准，且不可以修改。\\n您的报价将在2022年9月14日之后公布。\\n您的报价将被公布在您提交的报价日期之后24小时内。\\n您的报价将被公布在您提交的报价日期之后24小时内。\\n您的报价将被公布在您提交的报价日期之后24小时内，且不可以修改。\\n\n",
      "{\"generated_text\": \"。\\n我们预期的价格范围为500-1000人民币。\\n您的报价请在2022年9月14日之前提交。\\n您的报价将以您提交的报价为准，且不可以修改。\\n您的报价将在2022年9月14日之后公布。\\n您的报价将被公布在您提交的报价日期之后24小时内。\\n您的报价将被公布在您提交的报价日期之后24小时内。\\n您的报价将被公布在您提交的报价日期之后24小时内，且不可以修改。\\n您\n",
      "{\"generated_text\": \"。\\n我们预期的价格范围为500-1000人民币。\\n您的报价请在2022年9月14日之前提交。\\n您的报价将以您提交的报价为准，且不可以修改。\\n您的报价将在2022年9月14日之后公布。\\n您的报价将被公布在您提交的报价日期之后24小时内。\\n您的报价将被公布在您提交的报价日期之后24小时内。\\n您的报价将被公布在您提交的报价日期之后24小时内，且不可以修改。\\n您的\n",
      "{\"generated_text\": \"。\\n我们预期的价格范围为500-1000人民币。\\n您的报价请在2022年9月14日之前提交。\\n您的报价将以您提交的报价为准，且不可以修改。\\n您的报价将在2022年9月14日之后公布。\\n您的报价将被公布在您提交的报价日期之后24小时内。\\n您的报价将被公布在您提交的报价日期之后24小时内。\\n您的报价将被公布在您提交的报价日期之后24小时内，且不可以修改。\\n您的报\n",
      "{\"generated_text\": \"。\\n我们预期的价格范围为500-1000人民币。\\n您的报价请在2022年9月14日之前提交。\\n您的报价将以您提交的报价为准，且不可以修改。\\n您的报价将在2022年9月14日之后公布。\\n您的报价将被公布在您提交的报价日期之后24小时内。\\n您的报价将被公布在您提交的报价日期之后24小时内。\\n您的报价将被公布在您提交的报价日期之后24小时内，且不可以修改。\\n您的报价\n",
      "{\"generated_text\": \"。\\n我们预期的价格范围为500-1000人民币。\\n您的报价请在2022年9月14日之前提交。\\n您的报价将以您提交的报价为准，且不可以修改。\\n您的报价将在2022年9月14日之后公布。\\n您的报价将被公布在您提交的报价日期之后24小时内。\\n您的报价将被公布在您提交的报价日期之后24小时内。\\n您的报价将被公布在您提交的报价日期之后24小时内，且不可以修改。\\n您的报价将\n",
      "{\"generated_text\": \"。\\n我们预期的价格范围为500-1000人民币。\\n您的报价请在2022年9月14日之前提交。\\n您的报价将以您提交的报价为准，且不可以修改。\\n您的报价将在2022年9月14日之后公布。\\n您的报价将被公布在您提交的报价日期之后24小时内。\\n您的报价将被公布在您提交的报价日期之后24小时内。\\n您的报价将被公布在您提交的报价日期之后24小时内，且不可以修改。\\n您的报价将被\n",
      "{\"generated_text\": \"。\\n我们预期的价格范围为500-1000人民币。\\n您的报价请在2022年9月14日之前提交。\\n您的报价将以您提交的报价为准，且不可以修改。\\n您的报价将在2022年9月14日之后公布。\\n您的报价将被公布在您提交的报价日期之后24小时内。\\n您的报价将被公布在您提交的报价日期之后24小时内。\\n您的报价将被公布在您提交的报价日期之后24小时内，且不可以修改。\\n您的报价将被公\n",
      "{\"generated_text\": \"。\\n我们预期的价格范围为500-1000人民币。\\n您的报价请在2022年9月14日之前提交。\\n您的报价将以您提交的报价为准，且不可以修改。\\n您的报价将在2022年9月14日之后公布。\\n您的报价将被公布在您提交的报价日期之后24小时内。\\n您的报价将被公布在您提交的报价日期之后24小时内。\\n您的报价将被公布在您提交的报价日期之后24小时内，且不可以修改。\\n您的报价将被公布\n",
      "{\"generated_text\": \"。\\n我们预期的价格范围为500-1000人民币。\\n您的报价请在2022年9月14日之前提交。\\n您的报价将以您提交的报价为准，且不可以修改。\\n您的报价将在2022年9月14日之后公布。\\n您的报价将被公布在您提交的报价日期之后24小时内。\\n您的报价将被公布在您提交的报价日期之后24小时内。\\n您的报价将被公布在您提交的报价日期之后24小时内，且不可以修改。\\n您的报价将被公布在\n",
      "{\"generated_text\": \"。\\n我们预期的价格范围为500-1000人民币。\\n您的报价请在2022年9月14日之前提交。\\n您的报价将以您提交的报价为准，且不可以修改。\\n您的报价将在2022年9月14日之后公布。\\n您的报价将被公布在您提交的报价日期之后24小时内。\\n您的报价将被公布在您提交的报价日期之后24小时内。\\n您的报价将被公布在您提交的报价日期之后24小时内，且不可以修改。\\n您的报价将被公布在您\n",
      "{\"generated_text\": \"。\\n我们预期的价格范围为500-1000人民币。\\n您的报价请在2022年9月14日之前提交。\\n您的报价将以您提交的报价为准，且不可以修改。\\n您的报价将在2022年9月14日之后公布。\\n您的报价将被公布在您提交的报价日期之后24小时内。\\n您的报价将被公布在您提交的报价日期之后24小时内。\\n您的报价将被公布在您提交的报价日期之后24小时内，且不可以修改。\\n您的报价将被公布在您提\n",
      "{\"generated_text\": \"。\\n我们预期的价格范围为500-1000人民币。\\n您的报价请在2022年9月14日之前提交。\\n您的报价将以您提交的报价为准，且不可以修改。\\n您的报价将在2022年9月14日之后公布。\\n您的报价将被公布在您提交的报价日期之后24小时内。\\n您的报价将被公布在您提交的报价日期之后24小时内。\\n您的报价将被公布在您提交的报价日期之后24小时内，且不可以修改。\\n您的报价将被公布在您提交\n",
      "{\"generated_text\": \"。\\n我们预期的价格范围为500-1000人民币。\\n您的报价请在2022年9月14日之前提交。\\n您的报价将以您提交的报价为准，且不可以修改。\\n您的报价将在2022年9月14日之后公布。\\n您的报价将被公布在您提交的报价日期之后24小时内。\\n您的报价将被公布在您提交的报价日期之后24小时内。\\n您的报价将被公布在您提交的报价日期之后24小时内，且不可以修改。\\n您的报价将被公布在您提交的\n",
      "{\"generated_text\": \"。\\n我们预期的价格范围为500-1000人民币。\\n您的报价请在2022年9月14日之前提交。\\n您的报价将以您提交的报价为准，且不可以修改。\\n您的报价将在2022年9月14日之后公布。\\n您的报价将被公布在您提交的报价日期之后24小时内。\\n您的报价将被公布在您提交的报价日期之后24小时内。\\n您的报价将被公布在您提交的报价日期之后24小时内，且不可以修改。\\n您的报价将被公布在您提交的报\n",
      "{\"generated_text\": \"。\\n我们预期的价格范围为500-1000人民币。\\n您的报价请在2022年9月14日之前提交。\\n您的报价将以您提交的报价为准，且不可以修改。\\n您的报价将在2022年9月14日之后公布。\\n您的报价将被公布在您提交的报价日期之后24小时内。\\n您的报价将被公布在您提交的报价日期之后24小时内。\\n您的报价将被公布在您提交的报价日期之后24小时内，且不可以修改。\\n您的报价将被公布在您提交的报价\n",
      "{\"generated_text\": \"。\\n我们预期的价格范围为500-1000人民币。\\n您的报价请在2022年9月14日之前提交。\\n您的报价将以您提交的报价为准，且不可以修改。\\n您的报价将在2022年9月14日之后公布。\\n您的报价将被公布在您提交的报价日期之后24小时内。\\n您的报价将被公布在您提交的报价日期之后24小时内。\\n您的报价将被公布在您提交的报价日期之后24小时内，且不可以修改。\\n您的报价将被公布在您提交的报价日\n",
      "{\"generated_text\": \"。\\n我们预期的价格范围为500-1000人民币。\\n您的报价请在2022年9月14日之前提交。\\n您的报价将以您提交的报价为准，且不可以修改。\\n您的报价将在2022年9月14日之后公布。\\n您的报价将被公布在您提交的报价日期之后24小时内。\\n您的报价将被公布在您提交的报价日期之后24小时内。\\n您的报价将被公布在您提交的报价日期之后24小时内，且不可以修改。\\n您的报价将被公布在您提交的报价日期\n",
      "{\"generated_text\": \"。\\n我们预期的价格范围为500-1000人民币。\\n您的报价请在2022年9月14日之前提交。\\n您的报价将以您提交的报价为准，且不可以修改。\\n您的报价将在2022年9月14日之后公布。\\n您的报价将被公布在您提交的报价日期之后24小时内。\\n您的报价将被公布在您提交的报价日期之后24小时内。\\n您的报价将被公布在您提交的报价日期之后24小时内，且不可以修改。\\n您的报价将被公布在您提交的报价日期之\n",
      "{\"generated_text\": \"。\\n我们预期的价格范围为500-1000人民币。\\n您的报价请在2022年9月14日之前提交。\\n您的报价将以您提交的报价为准，且不可以修改。\\n您的报价将在2022年9月14日之后公布。\\n您的报价将被公布在您提交的报价日期之后24小时内。\\n您的报价将被公布在您提交的报价日期之后24小时内。\\n您的报价将被公布在您提交的报价日期之后24小时内，且不可以修改。\\n您的报价将被公布在您提交的报价日期之后\n",
      "{\"generated_text\": \"。\\n我们预期的价格范围为500-1000人民币。\\n您的报价请在2022年9月14日之前提交。\\n您的报价将以您提交的报价为准，且不可以修改。\\n您的报价将在2022年9月14日之后公布。\\n您的报价将被公布在您提交的报价日期之后24小时内。\\n您的报价将被公布在您提交的报价日期之后24小时内。\\n您的报价将被公布在您提交的报价日期之后24小时内，且不可以修改。\\n您的报价将被公布在您提交的报价日期之后2\n",
      "{\"generated_text\": \"。\\n我们预期的价格范围为500-1000人民币。\\n您的报价请在2022年9月14日之前提交。\\n您的报价将以您提交的报价为准，且不可以修改。\\n您的报价将在2022年9月14日之后公布。\\n您的报价将被公布在您提交的报价日期之后24小时内。\\n您的报价将被公布在您提交的报价日期之后24小时内。\\n您的报价将被公布在您提交的报价日期之后24小时内，且不可以修改。\\n您的报价将被公布在您提交的报价日期之后24\n",
      "{\"generated_text\": \"。\\n我们预期的价格范围为500-1000人民币。\\n您的报价请在2022年9月14日之前提交。\\n您的报价将以您提交的报价为准，且不可以修改。\\n您的报价将在2022年9月14日之后公布。\\n您的报价将被公布在您提交的报价日期之后24小时内。\\n您的报价将被公布在您提交的报价日期之后24小时内。\\n您的报价将被公布在您提交的报价日期之后24小时内，且不可以修改。\\n您的报价将被公布在您提交的报价日期之后24小\n",
      "{\"generated_text\": \"。\\n我们预期的价格范围为500-1000人民币。\\n您的报价请在2022年9月14日之前提交。\\n您的报价将以您提交的报价为准，且不可以修改。\\n您的报价将在2022年9月14日之后公布。\\n您的报价将被公布在您提交的报价日期之后24小时内。\\n您的报价将被公布在您提交的报价日期之后24小时内。\\n您的报价将被公布在您提交的报价日期之后24小时内，且不可以修改。\\n您的报价将被公布在您提交的报价日期之后24小时\n",
      "{\"generated_text\": \"。\\n我们预期的价格范围为500-1000人民币。\\n您的报价请在2022年9月14日之前提交。\\n您的报价将以您提交的报价为准，且不可以修改。\\n您的报价将在2022年9月14日之后公布。\\n您的报价将被公布在您提交的报价日期之后24小时内。\\n您的报价将被公布在您提交的报价日期之后24小时内。\\n您的报价将被公布在您提交的报价日期之后24小时内，且不可以修改。\\n您的报价将被公布在您提交的报价日期之后24小时内\n",
      "{\"generated_text\": \"。\\n我们预期的价格范围为500-1000人民币。\\n您的报价请在2022年9月14日之前提交。\\n您的报价将以您提交的报价为准，且不可以修改。\\n您的报价将在2022年9月14日之后公布。\\n您的报价将被公布在您提交的报价日期之后24小时内。\\n您的报价将被公布在您提交的报价日期之后24小时内。\\n您的报价将被公布在您提交的报价日期之后24小时内，且不可以修改。\\n您的报价将被公布在您提交的报价日期之后24小时内，\n",
      "{\"generated_text\": \"。\\n我们预期的价格范围为500-1000人民币。\\n您的报价请在2022年9月14日之前提交。\\n您的报价将以您提交的报价为准，且不可以修改。\\n您的报价将在2022年9月14日之后公布。\\n您的报价将被公布在您提交的报价日期之后24小时内。\\n您的报价将被公布在您提交的报价日期之后24小时内。\\n您的报价将被公布在您提交的报价日期之后24小时内，且不可以修改。\\n您的报价将被公布在您提交的报价日期之后24小时内，且\n",
      "{\"generated_text\": \"。\\n我们预期的价格范围为500-1000人民币。\\n您的报价请在2022年9月14日之前提交。\\n您的报价将以您提交的报价为准，且不可以修改。\\n您的报价将在2022年9月14日之后公布。\\n您的报价将被公布在您提交的报价日期之后24小时内。\\n您的报价将被公布在您提交的报价日期之后24小时内。\\n您的报价将被公布在您提交的报价日期之后24小时内，且不可以修改。\\n您的报价将被公布在您提交的报价日期之后24小时内，且不\n",
      "{\"generated_text\": \"。\\n我们预期的价格范围为500-1000人民币。\\n您的报价请在2022年9月14日之前提交。\\n您的报价将以您提交的报价为准，且不可以修改。\\n您的报价将在2022年9月14日之后公布。\\n您的报价将被公布在您提交的报价日期之后24小时内。\\n您的报价将被公布在您提交的报价日期之后24小时内。\\n您的报价将被公布在您提交的报价日期之后24小时内，且不可以修改。\\n您的报价将被公布在您提交的报价日期之后24小时内，且不可\n",
      "{\"generated_text\": \"。\\n我们预期的价格范围为500-1000人民币。\\n您的报价请在2022年9月14日之前提交。\\n您的报价将以您提交的报价为准，且不可以修改。\\n您的报价将在2022年9月14日之后公布。\\n您的报价将被公布在您提交的报价日期之后24小时内。\\n您的报价将被公布在您提交的报价日期之后24小时内。\\n您的报价将被公布在您提交的报价日期之后24小时内，且不可以修改。\\n您的报价将被公布在您提交的报价日期之后24小时内，且不可以\n",
      "{\"generated_text\": \"。\\n我们预期的价格范围为500-1000人民币。\\n您的报价请在2022年9月14日之前提交。\\n您的报价将以您提交的报价为准，且不可以修改。\\n您的报价将在2022年9月14日之后公布。\\n您的报价将被公布在您提交的报价日期之后24小时内。\\n您的报价将被公布在您提交的报价日期之后24小时内。\\n您的报价将被公布在您提交的报价日期之后24小时内，且不可以修改。\\n您的报价将被公布在您提交的报价日期之后24小时内，且不可以修\n",
      "{\"generated_text\": \"。\\n我们预期的价格范围为500-1000人民币。\\n您的报价请在2022年9月14日之前提交。\\n您的报价将以您提交的报价为准，且不可以修改。\\n您的报价将在2022年9月14日之后公布。\\n您的报价将被公布在您提交的报价日期之后24小时内。\\n您的报价将被公布在您提交的报价日期之后24小时内。\\n您的报价将被公布在您提交的报价日期之后24小时内，且不可以修改。\\n您的报价将被公布在您提交的报价日期之后24小时内，且不可以修改\n",
      "{\"generated_text\": \"。\\n我们预期的价格范围为500-1000人民币。\\n您的报价请在2022年9月14日之前提交。\\n您的报价将以您提交的报价为准，且不可以修改。\\n您的报价将在2022年9月14日之后公布。\\n您的报价将被公布在您提交的报价日期之后24小时内。\\n您的报价将被公布在您提交的报价日期之后24小时内。\\n您的报价将被公布在您提交的报价日期之后24小时内，且不可以修改。\\n您的报价将被公布在您提交的报价日期之后24小时内，且不可以修改。\n",
      "{\"generated_text\": \"。\\n我们预期的价格范围为500-1000人民币。\\n您的报价请在2022年9月14日之前提交。\\n您的报价将以您提交的报价为准，且不可以修改。\\n您的报价将在2022年9月14日之后公布。\\n您的报价将被公布在您提交的报价日期之后24小时内。\\n您的报价将被公布在您提交的报价日期之后24小时内。\\n您的报价将被公布在您提交的报价日期之后24小时内，且不可以修改。\\n您的报价将被公布在您提交的报价日期之后24小时内，且不可以修改。\\n\"}\n"
     ]
    }
   ],
   "source": [
    "from joblib import Parallel, delayed\n",
    "prompts = [prompt1,prompt2,prompt3,prompt4]\n",
    "\n",
    "\n",
    "response_model = smr_client.invoke_endpoint_with_response_stream(\n",
    "            EndpointName=endpoint_name,\n",
    "            Body=json.dumps(\n",
    "            {\n",
    "                \"inputs\": prompt1,\n",
    "                \"parameters\": parameters\n",
    "            }\n",
    "            ),\n",
    "            ContentType=\"application/json\",\n",
    "        )\n",
    "\n",
    "event_stream = response_model['Body']\n",
    "output=\"\"\n",
    "for event in event_stream:\n",
    "    eventJson=event['PayloadPart']['Bytes'].decode('utf-8')\n",
    "    output=output+extract_unicode_chars(eventJson)\n",
    "    print(output)\n",
    "    \n",
    "#for line in LineIterator(event_stream):\n",
    "#        data = json.loads(line)\n",
    "#        output += data['generated_text'][0]+''\n",
    "#        print(output)  \n",
    "\n",
    "\n",
    "#def call_endpoint(prompt):\n",
    "#    response_model = smr_client.invoke_endpoint_with_response_stream(\n",
    "#            EndpointName=endpoint_name,\n",
    "#            Body=json.dumps(\n",
    "#            {\n",
    "#                \"inputs\": prompt,\n",
    "#                \"parameters\": parameters\n",
    "#            }\n",
    "#            ),\n",
    "#            ContentType=\"application/json\",\n",
    "#        )\n",
    "#\n",
    "#    event_stream = response_model['Body']\n",
    "#    for event in event_stream:\n",
    "#        eventJson=event['PayloadPart']['Bytes'].decode('utf-8')\n",
    "#        output=extract_unicode_chars(eventJson)\n",
    "#        print(output)\n",
    "#    #for line in LineIterator(event_stream):\n",
    "#    #        data = json.loads(line)\n",
    "#    #        output += data['generated_text'][0]+''\n",
    "#    #        print(output)\n",
    "#\n",
    "#\n",
    "#\n",
    "#results = Parallel(n_jobs=10, prefer='threads', verbose=1, )(\n",
    "#    delayed(call_endpoint)(prompt)\n",
    "#    for prompt in prompts\n",
    "#)"
   ]
  },
  {
   "cell_type": "markdown",
   "id": "8c5a7651",
   "metadata": {},
   "source": [
    "## Conclusion\n",
    "In this post, we demonstrated how to use SageMaker large model inference containers to host Llama2-70B. For more details about Amazon SageMaker and its large model inference capabilities, refer to the following:\n",
    "\n",
    "* Model parallelism and large model inference on Sagemaker (https://docs.aws.amazon.com/sagemaker/latest/dg/realtime-endpoints-large-model-inference.html)"
   ]
  },
  {
   "cell_type": "markdown",
   "id": "03a86317",
   "metadata": {},
   "source": [
    "## Clean Up"
   ]
  },
  {
   "cell_type": "code",
   "execution_count": null,
   "id": "2defcfef",
   "metadata": {
    "tags": []
   },
   "outputs": [],
   "source": [
    "# Delete the endpoint\n",
    "sm_client.delete_endpoint(EndpointName=endpoint_name)"
   ]
  },
  {
   "cell_type": "code",
   "execution_count": null,
   "id": "28278159",
   "metadata": {},
   "outputs": [],
   "source": [
    "# In case the endpoint failed we still want to delete the model\n",
    "sm_client.delete_endpoint_config(EndpointConfigName=endpoint_config_name)\n",
    "sm_client.delete_model(ModelName=model_name)"
   ]
  }
 ],
 "metadata": {
  "availableInstances": [
   {
    "_defaultOrder": 0,
    "_isFastLaunch": true,
    "category": "General purpose",
    "gpuNum": 0,
    "hideHardwareSpecs": false,
    "memoryGiB": 4,
    "name": "ml.t3.medium",
    "vcpuNum": 2
   },
   {
    "_defaultOrder": 1,
    "_isFastLaunch": false,
    "category": "General purpose",
    "gpuNum": 0,
    "hideHardwareSpecs": false,
    "memoryGiB": 8,
    "name": "ml.t3.large",
    "vcpuNum": 2
   },
   {
    "_defaultOrder": 2,
    "_isFastLaunch": false,
    "category": "General purpose",
    "gpuNum": 0,
    "hideHardwareSpecs": false,
    "memoryGiB": 16,
    "name": "ml.t3.xlarge",
    "vcpuNum": 4
   },
   {
    "_defaultOrder": 3,
    "_isFastLaunch": false,
    "category": "General purpose",
    "gpuNum": 0,
    "hideHardwareSpecs": false,
    "memoryGiB": 32,
    "name": "ml.t3.2xlarge",
    "vcpuNum": 8
   },
   {
    "_defaultOrder": 4,
    "_isFastLaunch": true,
    "category": "General purpose",
    "gpuNum": 0,
    "hideHardwareSpecs": false,
    "memoryGiB": 8,
    "name": "ml.m5.large",
    "vcpuNum": 2
   },
   {
    "_defaultOrder": 5,
    "_isFastLaunch": false,
    "category": "General purpose",
    "gpuNum": 0,
    "hideHardwareSpecs": false,
    "memoryGiB": 16,
    "name": "ml.m5.xlarge",
    "vcpuNum": 4
   },
   {
    "_defaultOrder": 6,
    "_isFastLaunch": false,
    "category": "General purpose",
    "gpuNum": 0,
    "hideHardwareSpecs": false,
    "memoryGiB": 32,
    "name": "ml.m5.2xlarge",
    "vcpuNum": 8
   },
   {
    "_defaultOrder": 7,
    "_isFastLaunch": false,
    "category": "General purpose",
    "gpuNum": 0,
    "hideHardwareSpecs": false,
    "memoryGiB": 64,
    "name": "ml.m5.4xlarge",
    "vcpuNum": 16
   },
   {
    "_defaultOrder": 8,
    "_isFastLaunch": false,
    "category": "General purpose",
    "gpuNum": 0,
    "hideHardwareSpecs": false,
    "memoryGiB": 128,
    "name": "ml.m5.8xlarge",
    "vcpuNum": 32
   },
   {
    "_defaultOrder": 9,
    "_isFastLaunch": false,
    "category": "General purpose",
    "gpuNum": 0,
    "hideHardwareSpecs": false,
    "memoryGiB": 192,
    "name": "ml.m5.12xlarge",
    "vcpuNum": 48
   },
   {
    "_defaultOrder": 10,
    "_isFastLaunch": false,
    "category": "General purpose",
    "gpuNum": 0,
    "hideHardwareSpecs": false,
    "memoryGiB": 256,
    "name": "ml.m5.16xlarge",
    "vcpuNum": 64
   },
   {
    "_defaultOrder": 11,
    "_isFastLaunch": false,
    "category": "General purpose",
    "gpuNum": 0,
    "hideHardwareSpecs": false,
    "memoryGiB": 384,
    "name": "ml.m5.24xlarge",
    "vcpuNum": 96
   },
   {
    "_defaultOrder": 12,
    "_isFastLaunch": false,
    "category": "General purpose",
    "gpuNum": 0,
    "hideHardwareSpecs": false,
    "memoryGiB": 8,
    "name": "ml.m5d.large",
    "vcpuNum": 2
   },
   {
    "_defaultOrder": 13,
    "_isFastLaunch": false,
    "category": "General purpose",
    "gpuNum": 0,
    "hideHardwareSpecs": false,
    "memoryGiB": 16,
    "name": "ml.m5d.xlarge",
    "vcpuNum": 4
   },
   {
    "_defaultOrder": 14,
    "_isFastLaunch": false,
    "category": "General purpose",
    "gpuNum": 0,
    "hideHardwareSpecs": false,
    "memoryGiB": 32,
    "name": "ml.m5d.2xlarge",
    "vcpuNum": 8
   },
   {
    "_defaultOrder": 15,
    "_isFastLaunch": false,
    "category": "General purpose",
    "gpuNum": 0,
    "hideHardwareSpecs": false,
    "memoryGiB": 64,
    "name": "ml.m5d.4xlarge",
    "vcpuNum": 16
   },
   {
    "_defaultOrder": 16,
    "_isFastLaunch": false,
    "category": "General purpose",
    "gpuNum": 0,
    "hideHardwareSpecs": false,
    "memoryGiB": 128,
    "name": "ml.m5d.8xlarge",
    "vcpuNum": 32
   },
   {
    "_defaultOrder": 17,
    "_isFastLaunch": false,
    "category": "General purpose",
    "gpuNum": 0,
    "hideHardwareSpecs": false,
    "memoryGiB": 192,
    "name": "ml.m5d.12xlarge",
    "vcpuNum": 48
   },
   {
    "_defaultOrder": 18,
    "_isFastLaunch": false,
    "category": "General purpose",
    "gpuNum": 0,
    "hideHardwareSpecs": false,
    "memoryGiB": 256,
    "name": "ml.m5d.16xlarge",
    "vcpuNum": 64
   },
   {
    "_defaultOrder": 19,
    "_isFastLaunch": false,
    "category": "General purpose",
    "gpuNum": 0,
    "hideHardwareSpecs": false,
    "memoryGiB": 384,
    "name": "ml.m5d.24xlarge",
    "vcpuNum": 96
   },
   {
    "_defaultOrder": 20,
    "_isFastLaunch": false,
    "category": "General purpose",
    "gpuNum": 0,
    "hideHardwareSpecs": true,
    "memoryGiB": 0,
    "name": "ml.geospatial.interactive",
    "supportedImageNames": [
     "sagemaker-geospatial-v1-0"
    ],
    "vcpuNum": 0
   },
   {
    "_defaultOrder": 21,
    "_isFastLaunch": true,
    "category": "Compute optimized",
    "gpuNum": 0,
    "hideHardwareSpecs": false,
    "memoryGiB": 4,
    "name": "ml.c5.large",
    "vcpuNum": 2
   },
   {
    "_defaultOrder": 22,
    "_isFastLaunch": false,
    "category": "Compute optimized",
    "gpuNum": 0,
    "hideHardwareSpecs": false,
    "memoryGiB": 8,
    "name": "ml.c5.xlarge",
    "vcpuNum": 4
   },
   {
    "_defaultOrder": 23,
    "_isFastLaunch": false,
    "category": "Compute optimized",
    "gpuNum": 0,
    "hideHardwareSpecs": false,
    "memoryGiB": 16,
    "name": "ml.c5.2xlarge",
    "vcpuNum": 8
   },
   {
    "_defaultOrder": 24,
    "_isFastLaunch": false,
    "category": "Compute optimized",
    "gpuNum": 0,
    "hideHardwareSpecs": false,
    "memoryGiB": 32,
    "name": "ml.c5.4xlarge",
    "vcpuNum": 16
   },
   {
    "_defaultOrder": 25,
    "_isFastLaunch": false,
    "category": "Compute optimized",
    "gpuNum": 0,
    "hideHardwareSpecs": false,
    "memoryGiB": 72,
    "name": "ml.c5.9xlarge",
    "vcpuNum": 36
   },
   {
    "_defaultOrder": 26,
    "_isFastLaunch": false,
    "category": "Compute optimized",
    "gpuNum": 0,
    "hideHardwareSpecs": false,
    "memoryGiB": 96,
    "name": "ml.c5.12xlarge",
    "vcpuNum": 48
   },
   {
    "_defaultOrder": 27,
    "_isFastLaunch": false,
    "category": "Compute optimized",
    "gpuNum": 0,
    "hideHardwareSpecs": false,
    "memoryGiB": 144,
    "name": "ml.c5.18xlarge",
    "vcpuNum": 72
   },
   {
    "_defaultOrder": 28,
    "_isFastLaunch": false,
    "category": "Compute optimized",
    "gpuNum": 0,
    "hideHardwareSpecs": false,
    "memoryGiB": 192,
    "name": "ml.c5.24xlarge",
    "vcpuNum": 96
   },
   {
    "_defaultOrder": 29,
    "_isFastLaunch": true,
    "category": "Accelerated computing",
    "gpuNum": 1,
    "hideHardwareSpecs": false,
    "memoryGiB": 16,
    "name": "ml.g4dn.xlarge",
    "vcpuNum": 4
   },
   {
    "_defaultOrder": 30,
    "_isFastLaunch": false,
    "category": "Accelerated computing",
    "gpuNum": 1,
    "hideHardwareSpecs": false,
    "memoryGiB": 32,
    "name": "ml.g4dn.2xlarge",
    "vcpuNum": 8
   },
   {
    "_defaultOrder": 31,
    "_isFastLaunch": false,
    "category": "Accelerated computing",
    "gpuNum": 1,
    "hideHardwareSpecs": false,
    "memoryGiB": 64,
    "name": "ml.g4dn.4xlarge",
    "vcpuNum": 16
   },
   {
    "_defaultOrder": 32,
    "_isFastLaunch": false,
    "category": "Accelerated computing",
    "gpuNum": 1,
    "hideHardwareSpecs": false,
    "memoryGiB": 128,
    "name": "ml.g4dn.8xlarge",
    "vcpuNum": 32
   },
   {
    "_defaultOrder": 33,
    "_isFastLaunch": false,
    "category": "Accelerated computing",
    "gpuNum": 4,
    "hideHardwareSpecs": false,
    "memoryGiB": 192,
    "name": "ml.g4dn.12xlarge",
    "vcpuNum": 48
   },
   {
    "_defaultOrder": 34,
    "_isFastLaunch": false,
    "category": "Accelerated computing",
    "gpuNum": 1,
    "hideHardwareSpecs": false,
    "memoryGiB": 256,
    "name": "ml.g4dn.16xlarge",
    "vcpuNum": 64
   },
   {
    "_defaultOrder": 35,
    "_isFastLaunch": false,
    "category": "Accelerated computing",
    "gpuNum": 1,
    "hideHardwareSpecs": false,
    "memoryGiB": 61,
    "name": "ml.p3.2xlarge",
    "vcpuNum": 8
   },
   {
    "_defaultOrder": 36,
    "_isFastLaunch": false,
    "category": "Accelerated computing",
    "gpuNum": 4,
    "hideHardwareSpecs": false,
    "memoryGiB": 244,
    "name": "ml.p3.8xlarge",
    "vcpuNum": 32
   },
   {
    "_defaultOrder": 37,
    "_isFastLaunch": false,
    "category": "Accelerated computing",
    "gpuNum": 8,
    "hideHardwareSpecs": false,
    "memoryGiB": 488,
    "name": "ml.p3.16xlarge",
    "vcpuNum": 64
   },
   {
    "_defaultOrder": 38,
    "_isFastLaunch": false,
    "category": "Accelerated computing",
    "gpuNum": 8,
    "hideHardwareSpecs": false,
    "memoryGiB": 768,
    "name": "ml.p3dn.24xlarge",
    "vcpuNum": 96
   },
   {
    "_defaultOrder": 39,
    "_isFastLaunch": false,
    "category": "Memory Optimized",
    "gpuNum": 0,
    "hideHardwareSpecs": false,
    "memoryGiB": 16,
    "name": "ml.r5.large",
    "vcpuNum": 2
   },
   {
    "_defaultOrder": 40,
    "_isFastLaunch": false,
    "category": "Memory Optimized",
    "gpuNum": 0,
    "hideHardwareSpecs": false,
    "memoryGiB": 32,
    "name": "ml.r5.xlarge",
    "vcpuNum": 4
   },
   {
    "_defaultOrder": 41,
    "_isFastLaunch": false,
    "category": "Memory Optimized",
    "gpuNum": 0,
    "hideHardwareSpecs": false,
    "memoryGiB": 64,
    "name": "ml.r5.2xlarge",
    "vcpuNum": 8
   },
   {
    "_defaultOrder": 42,
    "_isFastLaunch": false,
    "category": "Memory Optimized",
    "gpuNum": 0,
    "hideHardwareSpecs": false,
    "memoryGiB": 128,
    "name": "ml.r5.4xlarge",
    "vcpuNum": 16
   },
   {
    "_defaultOrder": 43,
    "_isFastLaunch": false,
    "category": "Memory Optimized",
    "gpuNum": 0,
    "hideHardwareSpecs": false,
    "memoryGiB": 256,
    "name": "ml.r5.8xlarge",
    "vcpuNum": 32
   },
   {
    "_defaultOrder": 44,
    "_isFastLaunch": false,
    "category": "Memory Optimized",
    "gpuNum": 0,
    "hideHardwareSpecs": false,
    "memoryGiB": 384,
    "name": "ml.r5.12xlarge",
    "vcpuNum": 48
   },
   {
    "_defaultOrder": 45,
    "_isFastLaunch": false,
    "category": "Memory Optimized",
    "gpuNum": 0,
    "hideHardwareSpecs": false,
    "memoryGiB": 512,
    "name": "ml.r5.16xlarge",
    "vcpuNum": 64
   },
   {
    "_defaultOrder": 46,
    "_isFastLaunch": false,
    "category": "Memory Optimized",
    "gpuNum": 0,
    "hideHardwareSpecs": false,
    "memoryGiB": 768,
    "name": "ml.r5.24xlarge",
    "vcpuNum": 96
   },
   {
    "_defaultOrder": 47,
    "_isFastLaunch": false,
    "category": "Accelerated computing",
    "gpuNum": 1,
    "hideHardwareSpecs": false,
    "memoryGiB": 16,
    "name": "ml.p4d.24xlarge",
    "vcpuNum": 4
   },
   {
    "_defaultOrder": 48,
    "_isFastLaunch": false,
    "category": "Accelerated computing",
    "gpuNum": 1,
    "hideHardwareSpecs": false,
    "memoryGiB": 32,
    "name": "ml.p4d.24xlarge",
    "vcpuNum": 8
   },
   {
    "_defaultOrder": 49,
    "_isFastLaunch": false,
    "category": "Accelerated computing",
    "gpuNum": 1,
    "hideHardwareSpecs": false,
    "memoryGiB": 64,
    "name": "ml.p4d.24xlarge",
    "vcpuNum": 16
   },
   {
    "_defaultOrder": 50,
    "_isFastLaunch": false,
    "category": "Accelerated computing",
    "gpuNum": 1,
    "hideHardwareSpecs": false,
    "memoryGiB": 128,
    "name": "ml.p4d.24xlarge",
    "vcpuNum": 32
   },
   {
    "_defaultOrder": 51,
    "_isFastLaunch": false,
    "category": "Accelerated computing",
    "gpuNum": 1,
    "hideHardwareSpecs": false,
    "memoryGiB": 256,
    "name": "ml.p4d.24xlarge",
    "vcpuNum": 64
   },
   {
    "_defaultOrder": 52,
    "_isFastLaunch": false,
    "category": "Accelerated computing",
    "gpuNum": 4,
    "hideHardwareSpecs": false,
    "memoryGiB": 192,
    "name": "ml.p4d.24xlarge",
    "vcpuNum": 48
   },
   {
    "_defaultOrder": 53,
    "_isFastLaunch": false,
    "category": "Accelerated computing",
    "gpuNum": 4,
    "hideHardwareSpecs": false,
    "memoryGiB": 384,
    "name": "ml.p4d.24xlarge",
    "vcpuNum": 96
   },
   {
    "_defaultOrder": 54,
    "_isFastLaunch": false,
    "category": "Accelerated computing",
    "gpuNum": 8,
    "hideHardwareSpecs": false,
    "memoryGiB": 768,
    "name": "ml.p4d.24xlarge",
    "vcpuNum": 192
   },
   {
    "_defaultOrder": 55,
    "_isFastLaunch": false,
    "category": "Accelerated computing",
    "gpuNum": 8,
    "hideHardwareSpecs": false,
    "memoryGiB": 1152,
    "name": "ml.p4d.24xlarge",
    "vcpuNum": 96
   },
   {
    "_defaultOrder": 56,
    "_isFastLaunch": false,
    "category": "Accelerated computing",
    "gpuNum": 8,
    "hideHardwareSpecs": false,
    "memoryGiB": 1152,
    "name": "ml.p4de.24xlarge",
    "vcpuNum": 96
   }
  ],
  "kernelspec": {
   "display_name": "conda_python3",
   "language": "python",
   "name": "conda_python3"
  },
  "language_info": {
   "codemirror_mode": {
    "name": "ipython",
    "version": 3
   },
   "file_extension": ".py",
   "mimetype": "text/x-python",
   "name": "python",
   "nbconvert_exporter": "python",
   "pygments_lexer": "ipython3",
   "version": "3.10.12"
  },
  "vscode": {
   "interpreter": {
    "hash": "916dbcbb3f70747c44a77c7bcd40155683ae19c65e1c03b4aa3499c5328201f1"
   }
  }
 },
 "nbformat": 4,
 "nbformat_minor": 5
}
