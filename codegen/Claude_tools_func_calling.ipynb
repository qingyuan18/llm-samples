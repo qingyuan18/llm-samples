{
 "cells": [
  {
   "cell_type": "code",
   "execution_count": null,
   "id": "b1496410-5418-4464-9d00-81a4f33573d5",
   "metadata": {
    "tags": []
   },
   "outputs": [],
   "source": [
    "!pip install ipywidgets"
   ]
  },
  {
   "cell_type": "code",
   "execution_count": 1,
   "id": "2c8ac5a3-3cf8-4245-be49-73576048ba5b",
   "metadata": {
    "tags": []
   },
   "outputs": [],
   "source": [
    "import requests\n",
    "from tool_use_package.tools.base_tool import BaseTool\n",
    "from tool_use_package.tool_user import ToolUser\n",
    "import requests\n",
    "from opensearchpy import OpenSearch\n",
    "import re\n",
    "import json\n",
    "import os\n",
    "import sys\n",
    "import boto3\n",
    "from botocore.config import Config\n",
    "import xml.etree.ElementTree as ET\n",
    "\n",
    "config = Config(read_timeout=1000) # second\n",
    "boto3_bedrock = boto3.client('bedrock-runtime', config=config)\n",
    "model_id = 'anthropic.claude-3-sonnet-20240229-v1:0'"
   ]
  },
  {
   "cell_type": "markdown",
   "id": "fa370aea-54bc-467f-95e5-4d2135dfcef1",
   "metadata": {
    "tags": []
   },
   "source": [
    "### 1. 意图识别"
   ]
  },
  {
   "cell_type": "code",
   "execution_count": 2,
   "id": "4fe82de3-50a0-40a8-93ce-441d45be6387",
   "metadata": {
    "tags": []
   },
   "outputs": [],
   "source": [
    "intention_prompt=\"\"\"\n",
    "请帮助根据用户的请求将其分类，以下<cate>中为分类标签\n",
    "<cate>\n",
    "code_developer: 代码开发和程序设计，希望查找代码库获得具体功能，或者得到step by step的设计步骤和伪代码\n",
    "code_reviewer: 代码分析及审核，希望分析提供的原始代码片段，确定存在的任何错误，并提供解决这些问题的代码的更正版本，以及您的修复程序是如何解决这些问题的\n",
    "code_optimaler: 代码优化，希望分析提供的代码片段，并提出改进建议以优化其性能。确定可以使代码更高效、更快或资源密集度更低\n",
    "log_monitor : 系统日志排查，希望分析提供的系统日志记录，从中分析出系统问题，并提出解决方法\n",
    "no_cate: 无法判断分类\n",
    "</cate>\n",
    "输出prompt模版应该包括三个部分:\n",
    "必须严格用<example>中给出的样例格式回复,不需要解释，也不要包括任何评论:\n",
    "<example>\n",
    "<cate_type>\n",
    "  code_developer（具体分类）\n",
    "</cate_type>\n",
    "<code_language>\n",
    "   python（客户问题中的代码语言,如果没有找到则为空）\n",
    "</code_language>\n",
    "<time_stamp>\n",
    "   20240124（客户问题中的时间信息,如果没有找到则为空）\n",
    "</time_stamp>\n",
    "<reasoning>\n",
    "  客户需要设计步骤（分类原因）\n",
    "</reasoning>\n",
    "</example>\n",
    "\"\"\"\n",
    "\n",
    "\n",
    "\n",
    "def generate_message(bedrock_runtime, model_id, system_prompt, messages, max_tokens):\n",
    "\n",
    "    body=json.dumps(\n",
    "        {\n",
    "            \"anthropic_version\": \"bedrock-2023-05-31\",\n",
    "            \"max_tokens\": max_tokens,\n",
    "            \"system\": system_prompt,\n",
    "            \"messages\": messages\n",
    "        }  \n",
    "    )      \n",
    "    response = bedrock_runtime.invoke_model(body=body, modelId=model_id)\n",
    "    response_body = json.loads(response.get('body').read())   \n",
    "    return response_body\n",
    "\n",
    "def get_intention_type(user_query:str):\n",
    "    system_prompt = intention_prompt\n",
    "    max_tokens = 2000\n",
    "    user_message =  {\"role\": \"user\", \"content\": user_query}\n",
    "    messages = [user_message]\n",
    "    response = generate_message (boto3_bedrock, model_id, system_prompt, messages, max_tokens)\n",
    "    content = response['content'][0]['text']\n",
    "    print(content)\n",
    "    root = ET.fromstring(content)\n",
    "    cate_type = root.find('cate_type').text.strip()\n",
    "    time_stamp = root.find('time_stamp').text\n",
    "    return cate_type,time_stamp"
   ]
  },
  {
   "cell_type": "code",
   "execution_count": 3,
   "id": "2d1a417e-4b57-4289-be95-c3a4976d3942",
   "metadata": {
    "tags": []
   },
   "outputs": [
    {
     "data": {
      "application/vnd.jupyter.widget-view+json": {
       "model_id": "f49c137a582f48559c114cb62299bb47",
       "version_major": 2,
       "version_minor": 0
      },
      "text/plain": [
       "Text(value='', description='user_query:', placeholder='')"
      ]
     },
     "metadata": {},
     "output_type": "display_data"
    }
   ],
   "source": [
    "import ipywidgets as widgets\n",
    "\n",
    "#user_query = \"what's the hyperpod cluster create script?\"\n",
    "#user_query = \"help me to review the 202312 version‘s cluster lifecycle management script\"\n",
    "#user_query = \"give me a mount lustre's bash script\"\n",
    "\n",
    "#user_query = \"找一下hyperpod集群创建的bash脚本\"\n",
    "#user_query = \"帮我review 202312版本的hyperpod 集群的生命周期管理脚本\"\n",
    "#user_query = \"给我一个挂载Lustre文件系统的bash脚本\"\n",
    "\n",
    "\n",
    "text_box = widgets.Text(\n",
    "    value='',\n",
    "    placeholder='',\n",
    "    description='user_query:',\n",
    "    disabled=False\n",
    ")\n",
    "display(text_box)\n",
    "\n",
    "#name = input(\"user_query: \")"
   ]
  },
  {
   "cell_type": "code",
   "execution_count": 4,
   "id": "61f0f926-2e55-4bdb-b548-5ce8414fc975",
   "metadata": {
    "tags": []
   },
   "outputs": [
    {
     "name": "stdout",
     "output_type": "stream",
     "text": [
      "找一下hyperpod集群创建的bash脚本\n"
     ]
    }
   ],
   "source": [
    "user_query = text_box.value\n",
    "print(user_query)"
   ]
  },
  {
   "cell_type": "code",
   "execution_count": 5,
   "id": "6ebe944c-8607-4de4-8380-7166e1b19a2c",
   "metadata": {
    "tags": []
   },
   "outputs": [
    {
     "name": "stdout",
     "output_type": "stream",
     "text": [
      "<example>\n",
      "<cate_type>\n",
      "code_developer\n",
      "</cate_type>\n",
      "<code_language>\n",
      "bash\n",
      "</code_language>\n",
      "<time_stamp>\n",
      "</time_stamp>\n",
      "<reasoning>\n",
      "用户正在寻求创建HyperPod集群的Bash脚本代码。\n",
      "</reasoning>\n",
      "</example>\n"
     ]
    }
   ],
   "source": [
    "### get intention\n",
    "intention_type, intention_time_stamp=get_intention_type(user_query)"
   ]
  },
  {
   "cell_type": "markdown",
   "id": "e956cfa0-4fdf-48c1-a033-d9d21b00f934",
   "metadata": {
    "tags": []
   },
   "source": [
    "### 2. function calling"
   ]
  },
  {
   "cell_type": "code",
   "execution_count": 6,
   "id": "a4c52197-300d-43b6-93a3-1a1ab7e0e398",
   "metadata": {
    "tags": []
   },
   "outputs": [],
   "source": [
    "ret_codes = []\n",
    "ret_logs = {}\n",
    "query_time_stamp = intention_time_stamp\n",
    "\n",
    "### 用于日志检索的tool #######\n",
    "class SearchAOS(BaseTool):\n",
    "    host = 'your_opensearch_host'  # 替换为您的 OpenSearch 主机地址\n",
    "    port = 9200  # OpenSearch 默认端口\n",
    "    auth = ('user', 'password')  # 如果需要认证，请提供用户名和密码\n",
    "    # 要搜索的索引名称\n",
    "    index_name = 'your_index_name'        \n",
    "    # 要搜索的字段名称\n",
    "    field_name = 'your_field_name'\n",
    "    field_timestamp = 'time_stemp_filed'\n",
    "    ret_result = {}\n",
    "    def use_tool(self, search_term, time_stamp):\n",
    "        global query_time_stamp\n",
    "        query_time_stamp = time_stamp\n",
    "        # 创建 OpenSearch 客户端\n",
    "        client = OpenSearch(hosts=[{'host': self.host, 'port': self.port}], http_auth=self.auth)      \n",
    "        # 模糊搜索的查询字符串\n",
    "        query_string = search_term\n",
    "        # 构建查询请求体\n",
    "        query = {\n",
    "            \"query\": {\n",
    "                \"bool\": {\n",
    "                    \"must\": [\n",
    "                        {\n",
    "                            \"match\": {\n",
    "                                self.field_name: {\n",
    "                                    \"query\": query_string,\n",
    "                                    \"fuzziness\": \"AUTO\"  # 设置模糊匹配级别\n",
    "                                }\n",
    "                            }\n",
    "                        },\n",
    "                        {\n",
    "                            \"range\": {\n",
    "                                self.field_timestamp: {\n",
    "                                    \"gte\": time_stamp\n",
    "                                }\n",
    "                            }\n",
    "                        }\n",
    "                    ]\n",
    "                }\n",
    "            }\n",
    "        }\n",
    "        results = []\n",
    "        # 执行搜索请求\n",
    "        response = client.search(index=index_name, body=query)        \n",
    "        # 获取搜索结果\n",
    "        hits = response['hits']['hits']\n",
    "        # 打印搜索结果\n",
    "        for hit in hits:\n",
    "            item = {\"field_value\":hit['_source'][field_name],\n",
    "                    \"time_stamp\":hit['_source'][field_timestamp]}\n",
    "            results.append(item)\n",
    "        json_str = json.dumps(results)\n",
    "        json_obj = json.loads(json_str)\n",
    "        global ret_logs\n",
    "        ret_logs = json_obj\n",
    "        return json_obj\n",
    "\n",
    "\n",
    "### 用于代码片段检索的tool #######\n",
    "class SearchGitHubCode(BaseTool):\n",
    "\n",
    "    repo_url = \"https://github.com/qingyuan18/easy_hyperpod\"\n",
    "    token = \"ghp_6KmgrKb6C4K1OPH****\"\n",
    "    def use_tool(self, search_term):\n",
    "        \"\"\"\n",
    "        Search code in a GitHub repository.\n",
    "        \n",
    "        Args:\n",
    "            repo_url (str): The URL of the GitHub repository.\n",
    "            token (str): A GitHub personal access token.\n",
    "            search_term (str): The term to search for in the code.\n",
    "        \n",
    "        Returns:\n",
    "            list: A list of tuples containing the file name and URL for each match.\n",
    "        \"\"\"\n",
    "        # Extract the owner and repository name from the URL\n",
    "        match = re.match(r'https://github\\.com/([^/]+)/([^/]+)', self.repo_url)\n",
    "        if match:\n",
    "            owner, repo = match.groups()\n",
    "        else:\n",
    "            raise ValueError(\"Invalid GitHub repository URL.\")\n",
    "        \n",
    "        # Search the repository using the GitHub API\n",
    "        base_url = f\"https://api.github.com/search/code?q={search_term}+in:file+repo:{owner}/{repo}\"\n",
    "        #base_url = f\"https://api.github.com/search/code?q={search_term}+in:file+user:{owner}“\n",
    "        print(\"base_url==\"+base_url)\n",
    "        headers = {\"Authorization\": f\"Bearer {self.token}\",\n",
    "                  \"Accept\":\"application/vnd.github.text-match+json\",\n",
    "                  \"X-GitHub-Api-Version\":\"2022-11-28\"}\n",
    "        \n",
    "        results = []\n",
    "        \n",
    "        while base_url:\n",
    "            response = requests.get(base_url, headers=headers)\n",
    "            response.raise_for_status()\n",
    "            data = response.json()\n",
    "            \n",
    "            for item in data[\"items\"]:\n",
    "                code_fragment = \"\"\n",
    "                for match in item[\"text_matches\"]:\n",
    "                    code_fragment = code_fragment + match[\"fragment\"]+\"\\n\"\n",
    "                file_name = item[\"name\"]\n",
    "                file_url = item[\"html_url\"]\n",
    "                results.append({\"file_name\":file_name,\"file_url\":file_url,\"code_fragment\":code_fragment})\n",
    "                print(results)\n",
    "            \n",
    "            base_url = response.links.get(\"next\", {}).get(\"url\")\n",
    "        print(\"call search code tool success!\")\n",
    "        global ret_codes\n",
    "        ret_codes=results[:]\n",
    "        return results\n",
    "    "
   ]
  },
  {
   "cell_type": "code",
   "execution_count": 7,
   "id": "d16df35b-83bc-4fca-bbe2-57e8ddd7e477",
   "metadata": {
    "tags": []
   },
   "outputs": [
    {
     "name": "stdout",
     "output_type": "stream",
     "text": [
      "base_url==https://api.github.com/search/code?q=hyperpod cluster create bash+in:file+repo:qingyuan18/easy_hyperpod\n",
      "[{'file_name': 'hyperpod_setup.sh', 'file_url': 'https://github.com/qingyuan18/easy_hyperpod/blob/bab219f9ebcaf3062cd3e4367af9894aed837f7e/startup/hyperpod_setup.sh', 'code_fragment': '    # 使用 aws cli 将 hyperpod_iam_policy.json 中的权限 policy 添加到用户输入的 IAM role 角色权限中\\n    aws iam put-role-policy --role-name \"$role_name\" --policy-name hyperpod-policy --policy-document file://hyperpod_iam_policy.json\\n    # 将 role 角色名设置为全局变量\\n    controller_group=\"compute-nodes\"\\n    target_id=\"sagemaker-cluster:${cluster_id}_${controller_group}-${instance_id}\"\\n    aws ssm start-session --target \"$target_id\" --region \"$region\"\\n'}]\n",
      "call search code tool success!\n",
      "\n",
      "\n",
      "根据搜索结果,我找到了一个名为hyperpod_setup.sh的bash脚本,它似乎用于创建hyperpod集群。脚本文件位于https://github.com/qingyuan18/easy_hyperpod/blob/bab219f9ebcaf3062cd3e4367af9894aed837f7e/startup/hyperpod_setup.sh这个仓库中。\n",
      "\n",
      "返回的代码片段显示了一些与为角色添加IAM policy相关的逻辑,以及启动hyperpod controller节点的一些命令。\n",
      "\n",
      "这是否是你要查找的hyperpod集群创建bash脚本?如果不是,请提供更多细节以帮助我进一步搜索。\n"
     ]
    }
   ],
   "source": [
    "searchcode_tool_name = \"search_github_code\"\n",
    "searchcode_tool_description = \"\"\"Returns list of turple, each item of the list contains code filename , html url and matched code text for a given query term.\n",
    "Use this tools WHENEVER When querying code related issues, which refers to own code repository or open code issues. \n",
    "\"\"\"\n",
    "searchcode_tool_arameters = [\n",
    "    {\"name\": \"search_term\", \"type\": \"str\", \"description\": \"search term.\"}\n",
    "]\n",
    "\n",
    "\n",
    "searchcode_tool= SearchGitHubCode(searchcode_tool_name,searchcode_tool_description,searchcode_tool_arameters)\n",
    "\n",
    "\n",
    "# 3. Assign Tool \n",
    "tool_user = ToolUser([searchcode_tool],first_party=False , \n",
    "                     #model=\"anthropic.claude-3-sonnet-20240229-v1:0\")\n",
    "                     model=\"anthropic.claude-v2:1\")\n",
    "\n",
    "messages = [\n",
    "    {\n",
    "        \"role\":\"user\", \n",
    "        #\"content\":\"\"\"in our own code repo, what's the script of train for wandb?\"\"\"\n",
    "        \"content\":user_query\n",
    "    }\n",
    "]\n",
    "print(tool_user.use_tools(messages, execution_mode=\"automatic\"))"
   ]
  },
  {
   "cell_type": "code",
   "execution_count": 8,
   "id": "8b6bc010-7ff3-43ca-bfa3-0743c4628c66",
   "metadata": {
    "tags": []
   },
   "outputs": [],
   "source": [
    "source_codes_context = \"\"\n",
    "log_monitor_context = \"\"\n",
    "\n",
    "def get_code_source(code_url):\n",
    "    file_name = code_url.split('/')[-1]\n",
    "    response = requests.get(code_url).text\n",
    "    start_index = response.find('\"blob\":{\"rawLines\":[')\n",
    "    if start_index != -1:\n",
    "        # 找到结尾位置\n",
    "        end_index = response.find(']}}', start_index)      \n",
    "        # 提取源代码文本\n",
    "        source_code_text = response[start_index + 19:end_index]\n",
    "        # 解析JSON字符串为列表\n",
    "        #source_code_lines = json.loads('[' + source_code_text + ']')\n",
    "        return {'filename': file_name, 'source_text': source_code_text}\n",
    "    else:\n",
    "        print(f\"Error fetching {url}\")\n",
    "            \n",
    "\n",
    "def get_code_plantext(code_url):\n",
    "    try:\n",
    "        response = requests.get(code_url)\n",
    "        response.raise_for_status()  # 如果响应状态码不是200,就会抛出异常\n",
    "        file_name = code_url.split('/')[-1]\n",
    "        #print(response.text)\n",
    "        source_text = response.text\n",
    "        return {'filename': file_name, 'source_text': source_text}\n",
    "    except requests.exceptions.RequestException as e:\n",
    "        print(f\"Error fetching {url}: {e}\")\n",
    "\n",
    "\n",
    "\n",
    "##代码审查/代码优化需要检索到的源代码文件全文\n",
    "if intention_type == \"code_reviewer\" or intention_type== \"code_optimaler\":\n",
    "    source_codes =[]\n",
    "    for ret_item in ret_codes:\n",
    "        code_url = ret_item[\"file_url\"] \n",
    "        source_codes.append(get_code_source(code_url))\n",
    "    source_codes_context = json.dumps(source_codes)\n",
    "##开发/设计，使用代码片段\n",
    "elif intention_type == \"code_developer\":\n",
    "    source_codes_context = json.dumps(ret_codes)\n",
    "##日志检索结果\n",
    "elif intention_type == \"log_monitor\":\n",
    "    log_monitor_context = json.dumps(ret_logs)\n",
    "else:\n",
    "    source_codes_context = \"N/A\"\n",
    "    log_monitor_context = \"N/A\"\n",
    "\n",
    "#print(source_codes_context)"
   ]
  },
  {
   "cell_type": "markdown",
   "id": "2ade13d4-8a9a-4a75-876f-286a2308708d",
   "metadata": {
    "tags": []
   },
   "source": [
    "### 3. Instruct Prompt Engineering"
   ]
  },
  {
   "cell_type": "code",
   "execution_count": 9,
   "id": "8e133a3e-f853-4ba5-b8a5-88958ceae1e1",
   "metadata": {
    "tags": []
   },
   "outputs": [],
   "source": [
    "# system prompt\n",
    "system_prompt = \"\"\n",
    "        \n",
    "#code_developer_prompt=\"\"\"Your task is to convert the provided source code and the user's development request into clear and concise steps and code implementations.\n",
    "#The code implementation will reuse the provided source code as much as possible, and for each step of the implementation, provide necessary details and explanations to ensure that readers can successfully complete the task.\n",
    "#The provided source code is:\n",
    "#{source_code}\n",
    "#The user's development request is:\n",
    "#{user_request}\"\"\"\n",
    "\n",
    "\n",
    "#code_reviewer_prompt=\"\"\"Your task is to analyze the provided source code based on the user's request, identify any errors or issues present, and provide a corrected version to address these problems.\n",
    "#Explain the issues you found in the provided source code and how your fix resolves them.\n",
    "#The corrected code should be runnable, efficient, and follow best programming practices.\n",
    "#The provided source code is:\n",
    "#{source_code}\n",
    "#The user's request is:\n",
    "#{user_request}\"\"\"\n",
    "\n",
    "\n",
    "#code_optimaler_prompt=\"\"\"Your task is to analyze the provided {source_code} based on the {user_request}, and provide suggestions for optimizing its performance.\n",
    "#Identify segments in the code that can become more efficient, faster, or more resource-saving.\n",
    "#Provide specific optimization recommendations and explain how these changes will improve the code's performance.\n",
    "#The optimized code should maintain the original functionality while exhibiting higher efficiency.\n",
    "#The provided source code is:\n",
    "#{source_code}\n",
    "#The user's request is:\n",
    "#{user_request}\"\"\"\n",
    "\n",
    "\n",
    "#log_monitor_prompt=\"\"\"Now you're a software developer, you have deployed a new version on {query_start_timestamp}, below is a JSON list of error logs produced by your program near the deployment time, please do the following task:\n",
    "#1. Generate a list of summary of these error logs before deployment time, the format is keyword, the number of logs;\n",
    "#2. Generate a list of summary of these error logs after deployment time, the format is keyword, the number of logs;\n",
    "#3. List all the new errors after deployment time;\n",
    "#Below is the log  list:\n",
    "#{log_list}\n",
    "#\"\"\"\n",
    "\n",
    "code_developer_prompt=\"\"\"您的任务是将提供的源代码和用户的开发请求转换为清晰简洁的步骤及及代码实现。\n",
    "代码实现将尽可能地重用提供的源代码,并在实现的每个步骤提供必要的细节和解释,以确保读者能够成功完成任务。\n",
    "提供的源代码为:\n",
    "{source_code}\n",
    "用户的开发请求是:\n",
    "{user_request}\"\"\"\n",
    "\n",
    "code_reviewer_prompt=\"\"\"您的任务是根据用户的请求分析提供的源代码,识别其中存在的任何错误或问题,并提供一个修正后的版本来解决这些问题。\n",
    "解释您在提供的源代码中发现的问题,以及您的修复如何解决它们。\n",
    "修正后的代码应该是可运行的、高效的,并遵循编程的最佳实践。\n",
    "提供的源代码为:\n",
    "{source_code}\n",
    "用户的请求是:\n",
    "{user_request}\"\"\"\n",
    "\n",
    "code_optimaler_prompt=\"\"\"您的任务是根据用户的请求分析提供的源代码,并提出优化其性能的建议。\n",
    "识别代码中可以变得更加高效、更快或更节省资源的片段。\n",
    "提供具体的优化建议,并解释这些更改如何提高代码的性能。\n",
    "优化后的代码应该保持原有的功能,同时展示更高的效率。\n",
    "提供的源代码为:\n",
    "{source_code}\n",
    "用户的请求是:\n",
    "{user_request}\"\"\"\n",
    "\n",
    "log_monitor_prompt=\"\"\"您是一名软件开发人员,下面是您的程序在{query_start_timestamp}时间附近产生的一个JSON错误日志列表。\n",
    "请执行以下任务:\n",
    "1. 生成部署后这些错误日志的摘要列表,格式为关键字,日志数量;\n",
    "2. 列出部署后新出现的所有错误。\n",
    "下面是日志列表:\n",
    "{log_list}\"\"\"\n",
    "\n",
    "match intention_type:\n",
    "    case \"code_developer\":\n",
    "        system_prompt = code_developer_prompt.format(source_code=source_codes_context,user_request=user_query)\n",
    "    case \"code_reviewer\":\n",
    "        system_prompt = code_developer_prompt.format(source_code=source_codes_context,user_request=user_query)\n",
    "    case \"code_optimaler\":\n",
    "        system_prompt = code_optimaler_prompt.format(source_code=source_codes_context,user_request=user_query)\n",
    "    case \"log_monitor\":\n",
    "        system_prompt = log_monitor_prompt.format(log_list=ret_logs,query_start_timestamp=query_time_stamp)\n",
    "        \n"
   ]
  },
  {
   "cell_type": "code",
   "execution_count": 10,
   "id": "83793dfb-030e-437b-986b-3f5726ce9dd0",
   "metadata": {
    "tags": []
   },
   "outputs": [
    {
     "name": "stdout",
     "output_type": "stream",
     "text": [
      "根据提供的源代码和用户的请求,以下是创建 HyperPod 集群的 Bash 脚本步骤:\n",
      "\n",
      "1. **获取 AWS 凭证**\n",
      "\n",
      "首先,确保您已正确设置了 AWS 凭证,例如通过运行 `aws configure` 命令。\n",
      "\n",
      "2. **克隆 easy_hyperpod 存储库**\n",
      "\n",
      "```bash\n",
      "git clone https://github.com/qingyuan18/easy_hyperpod.git\n",
      "cd easy_hyperpod/startup\n",
      "```\n",
      "\n",
      "3. **运行 hyperpod_setup.sh 脚本**\n",
      "\n",
      "```bash\n",
      "bash hyperpod_setup.sh\n",
      "```\n",
      "\n",
      "此脚本将提示您输入以下信息:\n",
      "\n",
      "- AWS 区域 (Region)\n",
      "- 集群名称 (Cluster Name)\n",
      "- IAM 角色名称 (IAM Role Name)\n",
      "\n",
      "4. **脚本执行步骤解析**\n",
      "\n",
      "该脚本执行以下主要步骤:\n",
      "\n",
      "- 使用 AWS CLI 将 `hyperpod_iam_policy.json` 中的权限策略添加到您输入的 IAM 角色权限中。\n",
      "- 设置全局变量 `controller_group` 和 `target_id`。\n",
      "- 使用 `aws ssm start-session` 命令启动与 SageMaker 集群节点的会话。\n",
      "\n",
      "5. **后续步骤**\n",
      "\n",
      "成功运行脚本后,您将进入与 SageMaker 集群节点的交互式 SSH 会话。在该会话中,您可以执行其他必需的操作来配置和管理 HyperPod 集群。\n",
      "\n",
      "总的来说,`hyperpod_setup.sh` 脚本是设置 HyperPod 集群所需的初始步骤。它配置了 IAM 权限,并建立了与集群节点的连接,为后续配置做好了准备。\n"
     ]
    }
   ],
   "source": [
    "max_tokens = 2000\n",
    "user_message =  {\"role\": \"user\", \"content\": user_query}\n",
    "messages = [user_message]\n",
    "response = generate_message (boto3_bedrock, model_id, system_prompt, messages, max_tokens)\n",
    "content = response['content'][0]['text']\n",
    "print(content)"
   ]
  },
  {
   "cell_type": "markdown",
   "id": "eadd80c4-715a-4a6e-9513-4347b166c49c",
   "metadata": {
    "tags": []
   },
   "source": [
    "### for test only"
   ]
  },
  {
   "cell_type": "code",
   "execution_count": null,
   "id": "5702d276-acf9-45a7-9cd5-2be9f0337182",
   "metadata": {
    "tags": []
   },
   "outputs": [],
   "source": [
    "log_monitor_prompt=\"\"\"Now you're a software developer, you have deployed a new version on {query_start_timestamp}, below is a JSON list of error logs produced by your program near the deployment time, please do the following task:\n",
    "1. Generate a list of summary of these error logs before deployment time, the format is keyword, the number of logs;\n",
    "2. Generate a list of summary of these error logs after deployment time, the format is keyword, the number of logs;\n",
    "3. List all the new errors after deployment time;\n",
    "Below is the log  list:\n",
    "{log_list}\n",
    "\"\"\"\n",
    "\n",
    "print(log_monitor_prompt.format(query_start_timestamp=\"2024-03-26 03:36:15 UTC\",log_list=[\"python3\",\"hi\"]))"
   ]
  },
  {
   "cell_type": "code",
   "execution_count": null,
   "id": "018049f2-f223-422c-87db-94ecd734f0a1",
   "metadata": {},
   "outputs": [],
   "source": [
    "#user_query = \"I want't use rollingbatch to deploy a llama model\"\n",
    "#user_query = \"what's the error logs of '20240218 12:08:00' mean?\"\n",
    "intention_type, intention_time_stamp=get_intention_type(user_query)\n",
    "\n",
    "messages = [\n",
    "    {\n",
    "        \"role\":\"user\", \n",
    "        #\"content\":\"\"\"in our own code repo, what's the script of train for wandb?\"\"\"\n",
    "        \"content\":\"\"\"在我们自己的代码库中, 帮我找一个llama-2-70B的部署脚本\"\"\"\n",
    "    }\n",
    "]\n",
    "print(tool_user.use_tools(messages, execution_mode=\"automatic\"))"
   ]
  }
 ],
 "metadata": {
  "kernelspec": {
   "display_name": "conda_python3",
   "language": "python",
   "name": "conda_python3"
  },
  "language_info": {
   "codemirror_mode": {
    "name": "ipython",
    "version": 3
   },
   "file_extension": ".py",
   "mimetype": "text/x-python",
   "name": "python",
   "nbconvert_exporter": "python",
   "pygments_lexer": "ipython3",
   "version": "3.10.12"
  }
 },
 "nbformat": 4,
 "nbformat_minor": 5
}
